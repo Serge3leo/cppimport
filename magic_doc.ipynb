{
 "cells": [
  {
   "cell_type": "markdown",
   "id": "0683e93e",
   "metadata": {},
   "source": [
    "# CppImport magic's documentation\n",
    "`cppimport.magic` is an [IPython](http://ipython.org) extension that help to use C/C++ code in an interactive session.\n",
    "\n",
    "* Author `cppimport`:  T. Ben Thompson (t.ben.thompson@gmail.com)\n",
    "* `cppimport.magic`: Serguei E. Leontiev (leo@sai.msu.ru)\n",
    "* Homepage: https://github.com/tbenthompson/cppimport\n",
    "* SPDX-License-Identifier: MIT\n",
    "\n",
    "TODO: Editorial edits are required. Sorry for my best Engish."
   ]
  },
  {
   "cell_type": "markdown",
   "id": "199ce498",
   "metadata": {
    "editable": true,
    "slideshow": {
     "slide_type": ""
    },
    "tags": []
   },
   "source": [
    "## Install or upgrade\n",
    "You can install or upgrade via `pip`:\n",
    "```\n",
    "        pip install -U cppimport\n",
    "```"
   ]
  },
  {
   "cell_type": "markdown",
   "id": "4664b1af-ba32-4c08-8deb-65782bbb8ed2",
   "metadata": {},
   "source": [
    "## Usage\n",
    "Then you are ready to load the magic:"
   ]
  },
  {
   "cell_type": "code",
   "execution_count": 1,
   "id": "c059b7ed-cdbe-4b5e-8f42-856646585bc6",
   "metadata": {},
   "outputs": [
    {
     "data": {
      "application/javascript": [
       "\n",
       "        if(typeof IPython === 'undefined') {\n",
       "            console.log('cppimport/magic.py: TDOO: JupyterLab ' +\n",
       "                        'syntax highlight - unimplemented.');\n",
       "        } else {\n",
       "            IPython.CodeCell.options_default\n",
       "            .highlight_modes['magic_cpp'] = {'reg':[/^%%cppimport/]};\n",
       "        }\n",
       "        "
      ]
     },
     "metadata": {},
     "output_type": "display_data"
    }
   ],
   "source": [
    "%load_ext cppimport.magic"
   ]
  },
  {
   "cell_type": "markdown",
   "id": "6561c5fe-3ad2-4441-b460-186418407ba7",
   "metadata": {},
   "source": [
    "To load it each time IPython starts, list it in your configuration file:\n",
    "```\n",
    "    c.InteractiveShellApp.extensions = [\n",
    "        'cppimport.magic'\n",
    "    ]\n",
    "```"
   ]
  },
  {
   "cell_type": "code",
   "execution_count": 2,
   "id": "32251035-19cd-4a58-8ac2-962548c321f2",
   "metadata": {},
   "outputs": [
    {
     "name": "stdout",
     "output_type": "stream",
     "text": [
      "::\n",
      "\n",
      "  %cppimport [-v] [--help] cpp_module\n",
      "\n",
      "Build and import C/C++ module from ``%%ccpimport`` cell\n",
      "\n",
      "The content of the cell is written to a file in the\n",
      "directory ``$IPYTHONDIR/cppimport/<random>/<hash>/`` using\n",
      "a dirname with the hash of the code, flags and configuration\n",
      "data. This file is then compiled. The resulting module is\n",
      "imported.\n",
      "\n",
      "Usage\n",
      "=====\n",
      "Prepend ``%%cppimport`` to your C++/C code in a cell:\n",
      "\n",
      "%%cppimport module.cpp\n",
      "// put your code here.\n",
      "\n",
      "positional arguments:\n",
      "  cpp_module       Module C/C++ source file name.\n",
      "\n",
      "options:\n",
      "  -v, --verbosity  Increase output verbosity.\n",
      "  --help           Print docstring as output cell.\n",
      "\n"
     ]
    }
   ],
   "source": [
    "%%cppimport --help #\n",
    "#"
   ]
  },
  {
   "cell_type": "code",
   "execution_count": 3,
   "id": "2899879c-c739-43b7-b93a-27cfd1676b62",
   "metadata": {},
   "outputs": [
    {
     "name": "stdout",
     "output_type": "stream",
     "text": [
      "::\n",
      "\n",
      "  %cppimport_config [-v] [--clean-cache] [--defaults] [--help]\n",
      "\n",
      "options:\n",
      "  -v, --verbosity  Increase output verbosity.\n",
      "  --clean-cache    Clean ``cppimport.magic`` build cache.\n",
      "  --defaults       Delete custom configuration and back to default.\n",
      "  --help           Print docstring as output cell.\n",
      "\n"
     ]
    }
   ],
   "source": [
    "%cppimport_config --help"
   ]
  },
  {
   "cell_type": "markdown",
   "id": "831893ff-867d-47f5-bbc8-f5aca42d69c3",
   "metadata": {},
   "source": [
    "## Verbosity\n",
    "By default, magic returns output data only if errors or warnings occur during compilation. But you can increase the verbosity with the flag ``-v``:\n",
    "* ``-v`` - list top level objects of imporing module;\n",
    "* ``-vv`` - setuptools verbose output;\n",
    "* ``-vvv`` - debug logging."
   ]
  },
  {
   "cell_type": "code",
   "execution_count": 4,
   "id": "3e32a5c5-41b1-447a-9136-3533c7239caf",
   "metadata": {},
   "outputs": [
    {
     "name": "stdout",
     "output_type": "stream",
     "text": [
      "INF:cppimport.magic:New default arguments for %%cppimport: -v\n"
     ]
    }
   ],
   "source": [
    "%cppimport_config -v"
   ]
  },
  {
   "cell_type": "code",
   "execution_count": 5,
   "id": "4e00e631-6c69-4dd2-8c16-33f5fa29ee73",
   "metadata": {},
   "outputs": [
    {
     "name": "stdout",
     "output_type": "stream",
     "text": [
      "INF:cppimport.magic:Clean cache: /Users/leo/.cache/ipython/cppimport/def85c47\n"
     ]
    }
   ],
   "source": [
    "%cppimport_config --clean-cache\n",
    "first_replay_test = len(In)"
   ]
  },
  {
   "cell_type": "markdown",
   "id": "0d737f52-cbe2-47f4-a44a-f53769c09b25",
   "metadata": {},
   "source": [
    "## C/C++ code cell's\n",
    "You can use any interface libraries: [py11bind](https://pybind11.readthedocs.io), [Boost.Python](https://www.boost.org/doc/libs/release/libs/python/), native [Python/C API](https://docs.python.org/3/c-api/index.html) etc.\n",
    "\n",
    "Additional build flags configure by `cfg` dictionary in [Mako](https://www.makotemplates.org/) code blocks (`<%` and `%>`)."
   ]
  },
  {
   "cell_type": "markdown",
   "id": "7db59d49-a632-40ff-a383-170ffe984858",
   "metadata": {
    "tags": []
   },
   "source": [
    "### Use py11bind\n",
    "`setup_pybind11(cfg)` - short configuration definition for the comparatively popular C++11/Python interface.\n",
    "\n",
    "Also, classes defined by the cell (module) should be annotated as local (`py::module_local`). Classes without such an annotation will conflict with themselves when recompiled. See example [Use header files](#use_header_files) below."
   ]
  },
  {
   "cell_type": "code",
   "execution_count": 6,
   "id": "c44c9365-9f0d-4169-9b3b-330db1ef9243",
   "metadata": {
    "tags": []
   },
   "outputs": [
    {
     "name": "stdout",
     "output_type": "stream",
     "text": [
      "INF:cppimport.magic:C/C++ objects: somecode.square\n"
     ]
    }
   ],
   "source": [
    "%%cppimport somecode.cpp\n",
    "// Source:\n",
    "// https://github.com/tbenthompson/cppimport\n",
    "#include <pybind11/pybind11.h>\n",
    "\n",
    "namespace py = pybind11;\n",
    "\n",
    "int square(int x) {\n",
    "    return x * x + 1;\n",
    "}\n",
    "\n",
    "PYBIND11_MODULE(somecode, m) {\n",
    "    m.def(\"square\", &square);\n",
    "}\n",
    "/*<%\n",
    "setup_pybind11(cfg)\n",
    "%>*/"
   ]
  },
  {
   "cell_type": "code",
   "execution_count": 28,
   "id": "3d13c1be-b5d5-45be-b357-82d173383d45",
   "metadata": {},
   "outputs": [
    {
     "data": {
      "text/plain": [
       "144"
      ]
     },
     "execution_count": 28,
     "metadata": {},
     "output_type": "execute_result"
    }
   ],
   "source": [
    "somecode.square(12)"
   ]
  },
  {
   "cell_type": "code",
   "execution_count": 7,
   "id": "0ac4e29c-b59b-4550-ab3e-0daf9c6c72f1",
   "metadata": {
    "tags": []
   },
   "outputs": [],
   "source": [
    "assert 4 == somecode.square(2)"
   ]
  },
  {
   "cell_type": "markdown",
   "id": "a1e475d3-a96f-4109-8050-bca5d99e9984",
   "metadata": {},
   "source": [
    "#### C++14 py11bind example\n",
    "To use [py11bind](https://pybind11.readthedocs.io) with C++14/17/23/... code, you must explicitly set the appropriate compiler flag."
   ]
  },
  {
   "cell_type": "code",
   "execution_count": 8,
   "id": "89b89eca-2dba-49fa-9bc3-9a8725973e11",
   "metadata": {
    "tags": []
   },
   "outputs": [
    {
     "name": "stdout",
     "output_type": "stream",
     "text": [
      "INF:cppimport.magic:C/C++ objects: cpp14module.add\n"
     ]
    }
   ],
   "source": [
    "%%cppimport cpp14module.cpp\n",
    "// Source:\n",
    "// https://github.com/tbenthompson/cppimport/blob/main/tests/cpp14module.cpp\n",
    "#include <pybind11/pybind11.h>\n",
    "\n",
    "namespace py = pybind11;\n",
    "\n",
    "// Use auto instead of int to check C++14\n",
    "auto add(int i, int j) {\n",
    "    return i + j;\n",
    "}\n",
    "\n",
    "PYBIND11_MODULE(cpp14module, m) {\n",
    "    m.def(\"add\", &add);\n",
    "}\n",
    "/*<%\n",
    "import pybind11\n",
    "cfg['compiler_args'] = ['-std=c++14']\n",
    "cfg['include_dirs'] = [pybind11.get_include(), pybind11.get_include(True)]\n",
    "%>*/"
   ]
  },
  {
   "cell_type": "code",
   "execution_count": 9,
   "id": "ae9f80f4-9d84-418d-aeca-94fbb5b221ec",
   "metadata": {},
   "outputs": [],
   "source": [
    "assert 18 == cpp14module.add(7, 11)"
   ]
  },
  {
   "cell_type": "markdown",
   "id": "2395b7f7-c6dc-4c1d-9905-26c0223250f0",
   "metadata": {},
   "source": [
    "### Use C/Python API"
   ]
  },
  {
   "cell_type": "code",
   "execution_count": 10,
   "id": "e5b63d6d-649c-405a-9dfd-2a49c94919e9",
   "metadata": {},
   "outputs": [
    {
     "name": "stdout",
     "output_type": "stream",
     "text": [
      "INF:cppimport.magic:C/C++ objects: raw_extension.add\n"
     ]
    }
   ],
   "source": [
    "%%cppimport raw_extension.c\n",
    "// Source:\n",
    "// https://github.com/tbenthompson/cppimport/blob/main/tests/raw_extension.c\n",
    "#include <Python.h>\n",
    "\n",
    "#if PY_MAJOR_VERSION >= 3\n",
    "    #define MOD_INIT(name) PyMODINIT_FUNC PyInit_##name(void)\n",
    "    #define MOD_DEF(ob, name, doc, methods) \\\n",
    "        static struct PyModuleDef moduledef = { \\\n",
    "            PyModuleDef_HEAD_INIT, name, doc, -1, methods, }; \\\n",
    "        ob = PyModule_Create(&moduledef);\n",
    "    #define MOD_SUCCESS_VAL(val) val\n",
    "#else\n",
    "    #define MOD_INIT(name) PyMODINIT_FUNC init##name(void)\n",
    "    #define MOD_DEF(ob, name, doc, methods) \\\n",
    "        ob = Py_InitModule3(name, methods, doc);\n",
    "    #define MOD_SUCCESS_VAL(val)\n",
    "#endif\n",
    "\n",
    "static PyObject* add(PyObject* self, PyObject* args) {\n",
    "    int a, b;\n",
    "    //int class = 1;\n",
    "    if (!PyArg_ParseTuple(args, \"ii\", &a, &b)) {\n",
    "        return NULL;\n",
    "    }\n",
    "    return Py_BuildValue(\"i\", a + b);\n",
    "}\n",
    "\n",
    "static PyMethodDef methods[] = {\n",
    "    {\"add\", add, METH_VARARGS,\n",
    "     \"add(a: np.int32, b: np.int32) -> np.int32)\"},\n",
    "    {NULL}\n",
    "};\n",
    "\n",
    "MOD_INIT(raw_extension) {\n",
    "    PyObject* m;\n",
    "    MOD_DEF(m, \"raw_extension\", \"\", methods)\n",
    "    return MOD_SUCCESS_VAL(m);\n",
    "}"
   ]
  },
  {
   "cell_type": "code",
   "execution_count": 11,
   "id": "1cc96b8b-192c-494f-8988-610dd8eb2607",
   "metadata": {},
   "outputs": [],
   "source": [
    "assert 7 == raw_extension.add(2, 5)"
   ]
  },
  {
   "cell_type": "markdown",
   "id": "9e0b9ca8-5fa4-400e-8a7a-78fb5239f3a0",
   "metadata": {
    "tags": []
   },
   "source": [
    "### Use Boost.Python\n",
    "To use [Boost.Python](https://www.boost.org/doc/libs/release/libs/python/), you must explicitly define libraries."
   ]
  },
  {
   "cell_type": "code",
   "execution_count": 12,
   "id": "8822308d-1c85-4cd8-8fba-95cbc2951390",
   "metadata": {},
   "outputs": [
    {
     "name": "stdout",
     "output_type": "stream",
     "text": [
      "INF:cppimport.magic:C/C++ objects: operators.NumberLike\n"
     ]
    }
   ],
   "source": [
    "%%cppimport operators.cpp\n",
    "// Source:\n",
    "// https://github.com/TNG/boost-python-examples/blob/main/07-Operators/operators.cpp\n",
    "#include <sstream>\n",
    "#include <string>\n",
    "\n",
    "class NumberLike {\n",
    "public:\n",
    "    NumberLike(int n = 0) : mN(n) {}\n",
    "    NumberLike& operator+= (int i) {\n",
    "        mN += i;\n",
    "        return *this;\n",
    "    }\n",
    "    std::string str() const {\n",
    "        std::stringstream s;\n",
    "        s << mN;\n",
    "        return s.str();\n",
    "    }\n",
    "    std::string repr() const {\n",
    "        std::stringstream s;\n",
    "        s << \"NumberLike(\"<< mN << \")\";\n",
    "        return s.str();\n",
    "    }\n",
    "private:\n",
    "    int mN;\n",
    "};\n",
    "\n",
    "NumberLike operator+(NumberLike n, int i) {    n += i;\n",
    "    return n;\n",
    "};\n",
    "\n",
    "#include <boost/python.hpp>\n",
    "using namespace boost::python;\n",
    "\n",
    "BOOST_PYTHON_MODULE(operators) {\n",
    "    class_<NumberLike>(\"NumberLike\")\n",
    "        .def(init< optional<int> >())\n",
    "        .def(self + int())\n",
    "        .def(\"__str__\", &NumberLike::str)\n",
    "        .def(\"__repr__\", &NumberLike::repr)\n",
    "    ;\n",
    "}\n",
    "/*<%\n",
    "import os\n",
    "import sys\n",
    "_pfx = os.environ.get('CONDA_PREFIX', '/usr')\n",
    "cfg['compiler_args'] += ['-std=c++14']\n",
    "cfg['include_dirs'] += [ os.path.join(_pfx, 'include') ]\n",
    "cfg['extra_link_args'] += ['-rpath', os.path.join(_pfx, 'lib')]\n",
    "cfg['library_dirs'] += [ os.path.join(_pfx, 'lib') ]\n",
    "cfg['libraries'] += ['boost_python' +\n",
    "                     str(sys.version_info.major) + str(sys.version_info.minor)]\n",
    "%>*/"
   ]
  },
  {
   "cell_type": "code",
   "execution_count": 27,
   "id": "d7710381-0a58-46ec-ae09-bc1d9823bd39",
   "metadata": {},
   "outputs": [
    {
     "name": "stdout",
     "output_type": "stream",
     "text": [
      "7 9 9 0 1 NumberLike(1)\n"
     ]
    }
   ],
   "source": [
    "n = operators.NumberLike(7)\n",
    "m = n + 2\n",
    "assert str(m) == '9'\n",
    "n0 = operators.NumberLike()\n",
    "m0 = n0 + 1\n",
    "assert repr(m0) == 'NumberLike(1)'\n",
    "print(n, m, str(m), n0, m0, repr(m0))"
   ]
  },
  {
   "cell_type": "markdown",
   "id": "568cd95d-701f-4e41-8e8a-9e98d8c81393",
   "metadata": {},
   "source": [
    "## Use extra source\n",
    "Since the module is built in a temporary directory, references to additional source files must be absolute."
   ]
  },
  {
   "cell_type": "code",
   "execution_count": 14,
   "id": "259636e4-12fd-4f3a-84ef-34d81ff3e1bb",
   "metadata": {},
   "outputs": [
    {
     "name": "stdout",
     "output_type": "stream",
     "text": [
      "Overwriting .temp_test_extra_sources1.cpp\n"
     ]
    }
   ],
   "source": [
    "%%writefile .temp_test_extra_sources1.cpp\n",
    "// Source:\n",
    "// https://github.com/tbenthompson/cppimport/blob/main/tests/extra_sources1.cpp\n",
    "int square(int x) {\n",
    "    return x * x;\n",
    "}"
   ]
  },
  {
   "cell_type": "code",
   "execution_count": 15,
   "id": "9cb35b74-9ce4-4628-bfda-4fe4bbba8ea3",
   "metadata": {},
   "outputs": [
    {
     "name": "stdout",
     "output_type": "stream",
     "text": [
      "INF:cppimport.magic:C/C++ objects: extra_sources.square_sum\n"
     ]
    }
   ],
   "source": [
    "%%cppimport extra_sources.cpp\n",
    "// Source:\n",
    "// https://github.com/tbenthompson/cppimport/blob/main/tests/extra_sources.cpp\n",
    "#include <pybind11/pybind11.h>\n",
    "\n",
    "int square(int x);\n",
    "\n",
    "int square_sum(int x, int y) {\n",
    "    return square(x) + square(y);\n",
    "}\n",
    "\n",
    "PYBIND11_MODULE(extra_sources, m) {\n",
    "    m.def(\"square_sum\", &square_sum);\n",
    "}\n",
    "/*<%\n",
    "import os\n",
    "setup_pybind11(cfg)\n",
    "cfg['sources'] = [os.path.abspath('.temp_test_extra_sources1.cpp')]\n",
    "cfg['parallel'] = True\n",
    "%>*/"
   ]
  },
  {
   "cell_type": "code",
   "execution_count": 16,
   "id": "9cdf5abe-4a1a-48e3-b2ee-8e2e50cfa892",
   "metadata": {},
   "outputs": [],
   "source": [
    "assert 25 == extra_sources.square_sum(3, 4)"
   ]
  },
  {
   "cell_type": "markdown",
   "id": "24787738-d28b-4f1f-94fc-a29105eabb1e",
   "metadata": {},
   "source": [
    "<a id='use_header_files'></a>\n",
    "## Use header files\n",
    "\n",
    "Since the module is being built in a temporary directory, references to additional include directories, including current directory (`.`), must be absolute."
   ]
  },
  {
   "cell_type": "code",
   "execution_count": 17,
   "id": "0f67e096-ad20-43cc-ab36-648a829a18fc",
   "metadata": {},
   "outputs": [
    {
     "name": "stdout",
     "output_type": "stream",
     "text": [
      "Overwriting .temp_test_thing.h\n"
     ]
    }
   ],
   "source": [
    "%%writefile .temp_test_thing.h\n",
    "// Source:\n",
    "// https://github.com/tbenthompson/cppimport/blob/main/tests/test_cppimport.py\n",
    "#include <iostream>\n",
    "struct Thing {\n",
    "    void cheer() {\n",
    "        std::cout << \"WAHHOOOO\" << std::endl;\n",
    "    }\n",
    "};\n",
    "#define THING_DEFINED"
   ]
  },
  {
   "cell_type": "code",
   "execution_count": 18,
   "id": "bc1517bb-7ef3-47da-a67e-2e059948b0d1",
   "metadata": {},
   "outputs": [
    {
     "name": "stdout",
     "output_type": "stream",
     "text": [
      "Overwriting .temp_test_thing2.h\n"
     ]
    }
   ],
   "source": [
    "%%writefile .temp_test_thing2.h\n",
    "// This file is intentionally left empty."
   ]
  },
  {
   "cell_type": "code",
   "execution_count": 19,
   "id": "ad8571d3-ca54-48b0-826c-bdf151291658",
   "metadata": {},
   "outputs": [
    {
     "name": "stdout",
     "output_type": "stream",
     "text": [
      "INF:cppimport.magic:C/C++ objects: mymodule.add mymodule.Thing\n"
     ]
    }
   ],
   "source": [
    "%%cppimport mymodule.cpp\n",
    "// Source:\n",
    "// https://github.com/tbenthompson/cppimport/blob/main/tests/mymodule.cpp\n",
    "#include <pybind11/pybind11.h>\n",
    "#include \".temp_test_thing.h\"\n",
    "#include \".temp_test_thing2.h\"\n",
    "\n",
    "namespace py = pybind11;\n",
    "\n",
    "int add(int i, int j) {\n",
    "    return i + j;\n",
    "}\n",
    "\n",
    "PYBIND11_MODULE(mymodule, m) {\n",
    "    m.def(\"add\", &add);\n",
    "#ifdef THING_DEFINED\n",
    "    // #pragma message \"stuff\"\n",
    "    py::class_<Thing>(m, \"Thing\", py::module_local())\n",
    "        .def(py::init<>())\n",
    "        .def(\"cheer\", &Thing::cheer);\n",
    "#endif\n",
    "}\n",
    "/*<%\n",
    "import os\n",
    "setup_pybind11(cfg)\n",
    "cfg['include_dirs'] += [os.path.abspath('.')]\n",
    "cfg['dependencies'] += [os.path.abspath('.temp_test_thing.h')]\n",
    "%>*/"
   ]
  },
  {
   "cell_type": "code",
   "execution_count": 20,
   "id": "ea05dd59-b22a-4d7a-802d-4d6bf77d0407",
   "metadata": {},
   "outputs": [],
   "source": [
    "assert 8 == mymodule.add(3, 5)"
   ]
  },
  {
   "cell_type": "code",
   "execution_count": 21,
   "id": "9956534b-e79d-408a-bd44-df52d3f818b5",
   "metadata": {},
   "outputs": [
    {
     "name": "stdout",
     "output_type": "stream",
     "text": [
      "WAHHOOOO\n"
     ]
    }
   ],
   "source": [
    "mymodule.Thing().cheer()"
   ]
  },
  {
   "cell_type": "markdown",
   "id": "78d98cbc-110e-41aa-a8c5-2b61c594c17d",
   "metadata": {},
   "source": [
    "## Internal `cppimport.magic`\n",
    "Build and reloading module of the modified cell occurs as follows:\n",
    "1. Calculate checksum\n"
   ]
  },
  {
   "cell_type": "code",
   "execution_count": 22,
   "id": "2585f0e5-5a09-4fd8-87d8-0926a7a1ed3c",
   "metadata": {
    "slideshow": {
     "slide_type": ""
    },
    "tags": [
     "random"
    ]
   },
   "outputs": [
    {
     "data": {
      "text/plain": [
       "('/Users/leo/.cache/ipython/cppimport/9a9a5adc/7015077fb6d486875b027ba04750bc2a/_7015077fb6d486875b027ba04750bc2a_mymodule.cpython-311-darwin.so',\n",
       " ['_7015077fb6d486875b027ba04750bc2a_mymodule'],\n",
       " 'mymodule')"
      ]
     },
     "execution_count": 22,
     "metadata": {},
     "output_type": "execute_result"
    }
   ],
   "source": [
    "import sys\n",
    "\n",
    "(mymodule.__file__,\n",
    " [k for k in sys.modules if 'mymodule' in k],\n",
    " mymodule.__name__)"
   ]
  },
  {
   "cell_type": "code",
   "execution_count": 23,
   "id": "75df486c-e1c5-4610-b8d0-b71c4b9da60d",
   "metadata": {},
   "outputs": [],
   "source": [
    "last_replay_test = len(In)"
   ]
  },
  {
   "cell_type": "code",
   "execution_count": 24,
   "id": "5ee5b9ac-1514-430e-af8b-b5bab38e6539",
   "metadata": {
    "slideshow": {
     "slide_type": ""
    },
    "tags": [
     "random_long"
    ]
   },
   "outputs": [
    {
     "name": "stdout",
     "output_type": "stream",
     "text": [
      "\u001b[95m exec(  cppimport.settings['force_rebuild'] = False;get_ipython().run_line_magic('cppimport_config', '-v');  )\u001b[0m\n",
      "INF:cppimport.magic:New default arguments for %%cppimport: -v\n",
      "\u001b[92m exec(\u001b[0m get_ipython().run_cell_magic('cppimport', 'somecode.cpp', '// Source:\n",
      "// https://github.com/tbenthompson/cppimport\n",
      "#include <pybind11/pybind11.h>\n",
      "\n",
      "namespace py = pybind11;\n",
      "\n",
      "int square(int x) {\n",
      "    return x * x;\n",
      "}\n",
      "\n",
      "PYBIND11_MODULE(somecode, m) {\n",
      "    m.def(\"square\", &square);\n",
      "}\n",
      "/*<%\n",
      "setup_pybind11(cfg)\n",
      "%>*/\n",
      "') \u001b[92m )\u001b[0m\n"
     ]
    },
    {
     "name": "stderr",
     "output_type": "stream",
     "text": [
      "WARNING:cppimport.magic:The extension _372b18115ebdb890bd02e9bac3777833_somecode is already loaded. To reload it, use: %cppimport_config --clean-cache\n"
     ]
    },
    {
     "name": "stdout",
     "output_type": "stream",
     "text": [
      "INF:cppimport.magic:C/C++ objects: somecode.square\n",
      "\u001b[92m exec(\u001b[0m assert 4 == somecode.square(2) \u001b[92m )\u001b[0m\n",
      "\u001b[92m exec(\u001b[0m get_ipython().run_cell_magic('cppimport', 'cpp14module.cpp', '// Source:\n",
      "// https://github.com/tbenthompson/cppimport/blob/main/tests/cpp14module.cpp\n",
      "#include <pybind11/pybind11.h>\n",
      "\n",
      "namespace py = pybind11;\n",
      "\n",
      "// Use auto instead of int to check C++14\n",
      "auto add(int i, int j) {\n",
      "    return i + j;\n",
      "}\n",
      "\n",
      "PYBIND11_MODULE(cpp14module, m) {\n",
      "    m.def(\"add\", &add);\n",
      "}\n",
      "/*<%\n",
      "import pybind11\n",
      "cfg['compiler_args'] = ['-std=c++14']\n",
      "cfg['include_dirs'] = [pybind11.get_include(), pybind11.get_include(True)]\n",
      "%>*/\n",
      "') \u001b[92m )\u001b[0m\n"
     ]
    },
    {
     "name": "stderr",
     "output_type": "stream",
     "text": [
      "WARNING:cppimport.magic:The extension _a4c508630498bac3d3c2f742351e3d06_cpp14module is already loaded. To reload it, use: %cppimport_config --clean-cache\n"
     ]
    },
    {
     "name": "stdout",
     "output_type": "stream",
     "text": [
      "INF:cppimport.magic:C/C++ objects: cpp14module.add\n",
      "\u001b[92m exec(\u001b[0m assert 18 == cpp14module.add(7, 11) \u001b[92m )\u001b[0m\n",
      "\u001b[92m exec(\u001b[0m get_ipython().run_cell_magic('cppimport', 'raw_extension.c', '// Source:\n",
      "// https://github.com/tbenthompson/cppimport/blob/main/tests/raw_extension.c\n",
      "#include <Python.h>\n",
      "\n",
      "#if PY_MAJOR_VERSION >= 3\n",
      "    #define MOD_INIT(name) PyMODINIT_FUNC PyInit_##name(void)\n",
      "    #define MOD_DEF(ob, name, doc, methods) \\\\\n",
      "        static struct PyModuleDef moduledef = { \\\\\n",
      "            PyModuleDef_HEAD_INIT, name, doc, -1, methods, }; \\\\\n",
      "        ob = PyModule_Create(&moduledef);\n",
      "    #define MOD_SUCCESS_VAL(val) val\n",
      "#else\n",
      "    #define MOD_INIT(name) PyMODINIT_FUNC init##name(void)\n",
      "    #define MOD_DEF(ob, name, doc, methods) \\\\\n",
      "        ob = Py_InitModule3(name, methods, doc);\n",
      "    #define MOD_SUCCESS_VAL(val)\n",
      "#endif\n",
      "\n",
      "static PyObject* add(PyObject* self, PyObject* args) {\n",
      "    int a, b;\n",
      "    //int class = 1;\n",
      "    if (!PyArg_ParseTuple(args, \"ii\", &a, &b)) {\n",
      "        return NULL;\n",
      "    }\n",
      "    return Py_BuildValue(\"i\", a + b);\n",
      "}\n",
      "\n",
      "static PyMethodDef methods[] = {\n",
      "    {\"add\", add, METH_VARARGS,\n",
      "     \"add(a: np.int32, b: np.int32) -> np.int32)\"},\n",
      "    {NULL}\n",
      "};\n",
      "\n",
      "MOD_INIT(raw_extension) {\n",
      "    PyObject* m;\n",
      "    MOD_DEF(m, \"raw_extension\", \"\", methods)\n",
      "    return MOD_SUCCESS_VAL(m);\n",
      "}\n",
      "') \u001b[92m )\u001b[0m\n"
     ]
    },
    {
     "name": "stderr",
     "output_type": "stream",
     "text": [
      "WARNING:cppimport.magic:The extension _1b646be261305bd819578ba36f3a2a1b_raw_extension is already loaded. To reload it, use: %cppimport_config --clean-cache\n"
     ]
    },
    {
     "name": "stdout",
     "output_type": "stream",
     "text": [
      "INF:cppimport.magic:C/C++ objects: raw_extension.add\n",
      "\u001b[92m exec(\u001b[0m assert 7 == raw_extension.add(2, 5) \u001b[92m )\u001b[0m\n",
      "\u001b[92m exec(\u001b[0m get_ipython().run_cell_magic('cppimport', 'operators.cpp', '// Source:\n",
      "// https://github.com/TNG/boost-python-examples/blob/main/07-Operators/operators.cpp\n",
      "#include <sstream>\n",
      "#include <string>\n",
      "\n",
      "class NumberLike {\n",
      "public:\n",
      "    NumberLike(int n = 0) : mN(n) {}\n",
      "    NumberLike& operator+= (int i) {\n",
      "        mN += i;\n",
      "        return *this;\n",
      "    }\n",
      "    std::string str() const {\n",
      "        std::stringstream s;\n",
      "        s << mN;\n",
      "        return s.str();\n",
      "    }\n",
      "    std::string repr() const {\n",
      "        std::stringstream s;\n",
      "        s << \"NumberLike(\"<< mN << \")\";\n",
      "        return s.str();\n",
      "    }\n",
      "private:\n",
      "    int mN;\n",
      "};\n",
      "\n",
      "NumberLike operator+(NumberLike n, int i) {    n += i;\n",
      "    return n;\n",
      "};\n",
      "\n",
      "#include <boost/python.hpp>\n",
      "using namespace boost::python;\n",
      "\n",
      "BOOST_PYTHON_MODULE(operators) {\n",
      "    class_<NumberLike>(\"NumberLike\")\n",
      "        .def(init< optional<int> >())\n",
      "        .def(self + int())\n",
      "        .def(\"__str__\", &NumberLike::str)\n",
      "        .def(\"__repr__\", &NumberLike::repr)\n",
      "    ;\n",
      "}\n",
      "/*<%\n",
      "import os\n",
      "import sys\n",
      "_pfx = os.environ.get('CONDA_PREFIX', '/usr')\n",
      "cfg['compiler_args'] += ['-std=c++14']\n",
      "cfg['include_dirs'] += [ os.path.join(_pfx, 'include') ]\n",
      "cfg['extra_link_args'] += ['-rpath', os.path.join(_pfx, 'lib')]\n",
      "cfg['library_dirs'] += [ os.path.join(_pfx, 'lib') ]\n",
      "cfg['libraries'] += ['boost_python' +\n",
      "                     str(sys.version_info.major) + str(sys.version_info.minor)]\n",
      "%>*/\n",
      "') \u001b[92m )\u001b[0m\n"
     ]
    },
    {
     "name": "stderr",
     "output_type": "stream",
     "text": [
      "WARNING:cppimport.magic:The extension _bd806a1a4b5b2f401d9b85114dd7d93b_operators is already loaded. To reload it, use: %cppimport_config --clean-cache\n"
     ]
    },
    {
     "name": "stdout",
     "output_type": "stream",
     "text": [
      "INF:cppimport.magic:C/C++ objects: operators.NumberLike\n",
      "\u001b[92m exec(\u001b[0m n = operators.NumberLike(7)\n",
      "m = n + 2\n",
      "assert str(m) == '9'\n",
      "n0 = operators.NumberLike()\n",
      "m0 = n0 + 1\n",
      "assert repr(m0) == 'NumberLike(1)'\n",
      "print(n, m, str(m), n0, m0, repr(m0)) \u001b[92m )\u001b[0m\n",
      "7 9 9 0 1 NumberLike(1)\n",
      "\u001b[92m exec(\u001b[0m get_ipython().run_cell_magic('writefile', '.temp_test_extra_sources1.cpp', '// Source:\n",
      "// https://github.com/tbenthompson/cppimport/blob/main/tests/extra_sources1.cpp\n",
      "int square(int x) {\n",
      "    return x * x;\n",
      "}\n",
      "') \u001b[92m )\u001b[0m\n",
      "Overwriting .temp_test_extra_sources1.cpp\n",
      "\u001b[92m exec(\u001b[0m get_ipython().run_cell_magic('cppimport', 'extra_sources.cpp', '// Source:\n",
      "// https://github.com/tbenthompson/cppimport/blob/main/tests/extra_sources.cpp\n",
      "#include <pybind11/pybind11.h>\n",
      "\n",
      "int square(int x);\n",
      "\n",
      "int square_sum(int x, int y) {\n",
      "    return square(x) + square(y);\n",
      "}\n",
      "\n",
      "PYBIND11_MODULE(extra_sources, m) {\n",
      "    m.def(\"square_sum\", &square_sum);\n",
      "}\n",
      "/*<%\n",
      "import os\n",
      "setup_pybind11(cfg)\n",
      "cfg['sources'] = [os.path.abspath('.temp_test_extra_sources1.cpp')]\n",
      "cfg['parallel'] = True\n",
      "%>*/\n",
      "') \u001b[92m )\u001b[0m\n"
     ]
    },
    {
     "name": "stderr",
     "output_type": "stream",
     "text": [
      "WARNING:cppimport.magic:The extension _c932827fa3f23a76ec0a69516299f885_extra_sources is already loaded. To reload it, use: %cppimport_config --clean-cache\n"
     ]
    },
    {
     "name": "stdout",
     "output_type": "stream",
     "text": [
      "INF:cppimport.magic:C/C++ objects: extra_sources.square_sum\n",
      "\u001b[92m exec(\u001b[0m assert 25 == extra_sources.square_sum(3, 4) \u001b[92m )\u001b[0m\n",
      "\u001b[92m exec(\u001b[0m get_ipython().run_cell_magic('writefile', '.temp_test_thing.h', '// Source:\n",
      "// https://github.com/tbenthompson/cppimport/blob/main/tests/test_cppimport.py\n",
      "#include <iostream>\n",
      "struct Thing {\n",
      "    void cheer() {\n",
      "        std::cout << \"WAHHOOOO\" << std::endl;\n",
      "    }\n",
      "};\n",
      "#define THING_DEFINED\n",
      "') \u001b[92m )\u001b[0m\n",
      "Overwriting .temp_test_thing.h\n",
      "\u001b[92m exec(\u001b[0m get_ipython().run_cell_magic('writefile', '.temp_test_thing2.h', '// This file is intentionally left empty.\n",
      "') \u001b[92m )\u001b[0m\n",
      "Overwriting .temp_test_thing2.h\n",
      "\u001b[92m exec(\u001b[0m get_ipython().run_cell_magic('cppimport', 'mymodule.cpp', '// Source:\n",
      "// https://github.com/tbenthompson/cppimport/blob/main/tests/mymodule.cpp\n",
      "#include <pybind11/pybind11.h>\n",
      "#include \".temp_test_thing.h\"\n",
      "#include \".temp_test_thing2.h\"\n",
      "\n",
      "namespace py = pybind11;\n",
      "\n",
      "int add(int i, int j) {\n",
      "    return i + j;\n",
      "}\n",
      "\n",
      "PYBIND11_MODULE(mymodule, m) {\n",
      "    m.def(\"add\", &add);\n",
      "#ifdef THING_DEFINED\n",
      "    // #pragma message \"stuff\"\n",
      "    py::class_<Thing>(m, \"Thing\", py::module_local())\n",
      "        .def(py::init<>())\n",
      "        .def(\"cheer\", &Thing::cheer);\n",
      "#endif\n",
      "}\n",
      "/*<%\n",
      "import os\n",
      "setup_pybind11(cfg)\n",
      "cfg['include_dirs'] += [os.path.abspath('.')]\n",
      "cfg['dependencies'] += [os.path.abspath('.temp_test_thing.h')]\n",
      "%>*/\n",
      "') \u001b[92m )\u001b[0m\n"
     ]
    },
    {
     "name": "stderr",
     "output_type": "stream",
     "text": [
      "WARNING:cppimport.magic:The extension _7015077fb6d486875b027ba04750bc2a_mymodule is already loaded. To reload it, use: %cppimport_config --clean-cache\n"
     ]
    },
    {
     "name": "stdout",
     "output_type": "stream",
     "text": [
      "INF:cppimport.magic:C/C++ objects: mymodule.add mymodule.Thing\n",
      "\u001b[92m exec(\u001b[0m assert 8 == mymodule.add(3, 5) \u001b[92m )\u001b[0m\n",
      "\u001b[92m exec(\u001b[0m mymodule.Thing().cheer() \u001b[92m )\u001b[0m\n",
      "WAHHOOOO\n",
      "\u001b[92m exec(\u001b[0m import sys\n",
      "\n",
      "(mymodule.__file__,\n",
      " [k for k in sys.modules if 'mymodule' in k],\n",
      " mymodule.__name__) \u001b[92m )\u001b[0m\n",
      "\u001b[95m exec(  cppimport.settings['force_rebuild'] = True;  )\u001b[0m\n",
      "\u001b[92m exec(\u001b[0m get_ipython().run_cell_magic('cppimport', 'somecode.cpp', '// Source:\n",
      "// https://github.com/tbenthompson/cppimport\n",
      "#include <pybind11/pybind11.h>\n",
      "\n",
      "namespace py = pybind11;\n",
      "\n",
      "int square(int x) {\n",
      "    return x * x;\n",
      "}\n",
      "\n",
      "PYBIND11_MODULE(somecode, m) {\n",
      "    m.def(\"square\", &square);\n",
      "}\n",
      "/*<%\n",
      "setup_pybind11(cfg)\n",
      "%>*/\n",
      "') \u001b[92m )\u001b[0m\n",
      "INF:cppimport.magic:C/C++ objects: somecode.square\n",
      "\u001b[92m exec(\u001b[0m assert 4 == somecode.square(2) \u001b[92m )\u001b[0m\n",
      "\u001b[92m exec(\u001b[0m get_ipython().run_cell_magic('cppimport', 'cpp14module.cpp', '// Source:\n",
      "// https://github.com/tbenthompson/cppimport/blob/main/tests/cpp14module.cpp\n",
      "#include <pybind11/pybind11.h>\n",
      "\n",
      "namespace py = pybind11;\n",
      "\n",
      "// Use auto instead of int to check C++14\n",
      "auto add(int i, int j) {\n",
      "    return i + j;\n",
      "}\n",
      "\n",
      "PYBIND11_MODULE(cpp14module, m) {\n",
      "    m.def(\"add\", &add);\n",
      "}\n",
      "/*<%\n",
      "import pybind11\n",
      "cfg['compiler_args'] = ['-std=c++14']\n",
      "cfg['include_dirs'] = [pybind11.get_include(), pybind11.get_include(True)]\n",
      "%>*/\n",
      "') \u001b[92m )\u001b[0m\n",
      "INF:cppimport.magic:C/C++ objects: cpp14module.add\n",
      "\u001b[92m exec(\u001b[0m assert 18 == cpp14module.add(7, 11) \u001b[92m )\u001b[0m\n",
      "\u001b[92m exec(\u001b[0m get_ipython().run_cell_magic('cppimport', 'raw_extension.c', '// Source:\n",
      "// https://github.com/tbenthompson/cppimport/blob/main/tests/raw_extension.c\n",
      "#include <Python.h>\n",
      "\n",
      "#if PY_MAJOR_VERSION >= 3\n",
      "    #define MOD_INIT(name) PyMODINIT_FUNC PyInit_##name(void)\n",
      "    #define MOD_DEF(ob, name, doc, methods) \\\\\n",
      "        static struct PyModuleDef moduledef = { \\\\\n",
      "            PyModuleDef_HEAD_INIT, name, doc, -1, methods, }; \\\\\n",
      "        ob = PyModule_Create(&moduledef);\n",
      "    #define MOD_SUCCESS_VAL(val) val\n",
      "#else\n",
      "    #define MOD_INIT(name) PyMODINIT_FUNC init##name(void)\n",
      "    #define MOD_DEF(ob, name, doc, methods) \\\\\n",
      "        ob = Py_InitModule3(name, methods, doc);\n",
      "    #define MOD_SUCCESS_VAL(val)\n",
      "#endif\n",
      "\n",
      "static PyObject* add(PyObject* self, PyObject* args) {\n",
      "    int a, b;\n",
      "    //int class = 1;\n",
      "    if (!PyArg_ParseTuple(args, \"ii\", &a, &b)) {\n",
      "        return NULL;\n",
      "    }\n",
      "    return Py_BuildValue(\"i\", a + b);\n",
      "}\n",
      "\n",
      "static PyMethodDef methods[] = {\n",
      "    {\"add\", add, METH_VARARGS,\n",
      "     \"add(a: np.int32, b: np.int32) -> np.int32)\"},\n",
      "    {NULL}\n",
      "};\n",
      "\n",
      "MOD_INIT(raw_extension) {\n",
      "    PyObject* m;\n",
      "    MOD_DEF(m, \"raw_extension\", \"\", methods)\n",
      "    return MOD_SUCCESS_VAL(m);\n",
      "}\n",
      "') \u001b[92m )\u001b[0m\n",
      "INF:cppimport.magic:C/C++ objects: raw_extension.add\n",
      "\u001b[92m exec(\u001b[0m assert 7 == raw_extension.add(2, 5) \u001b[92m )\u001b[0m\n",
      "\u001b[92m exec(\u001b[0m get_ipython().run_cell_magic('cppimport', 'operators.cpp', '// Source:\n",
      "// https://github.com/TNG/boost-python-examples/blob/main/07-Operators/operators.cpp\n",
      "#include <sstream>\n",
      "#include <string>\n",
      "\n",
      "class NumberLike {\n",
      "public:\n",
      "    NumberLike(int n = 0) : mN(n) {}\n",
      "    NumberLike& operator+= (int i) {\n",
      "        mN += i;\n",
      "        return *this;\n",
      "    }\n",
      "    std::string str() const {\n",
      "        std::stringstream s;\n",
      "        s << mN;\n",
      "        return s.str();\n",
      "    }\n",
      "    std::string repr() const {\n",
      "        std::stringstream s;\n",
      "        s << \"NumberLike(\"<< mN << \")\";\n",
      "        return s.str();\n",
      "    }\n",
      "private:\n",
      "    int mN;\n",
      "};\n",
      "\n",
      "NumberLike operator+(NumberLike n, int i) {    n += i;\n",
      "    return n;\n",
      "};\n",
      "\n",
      "#include <boost/python.hpp>\n",
      "using namespace boost::python;\n",
      "\n",
      "BOOST_PYTHON_MODULE(operators) {\n",
      "    class_<NumberLike>(\"NumberLike\")\n",
      "        .def(init< optional<int> >())\n",
      "        .def(self + int())\n",
      "        .def(\"__str__\", &NumberLike::str)\n",
      "        .def(\"__repr__\", &NumberLike::repr)\n",
      "    ;\n",
      "}\n",
      "/*<%\n",
      "import os\n",
      "import sys\n",
      "_pfx = os.environ.get('CONDA_PREFIX', '/usr')\n",
      "cfg['compiler_args'] += ['-std=c++14']\n",
      "cfg['include_dirs'] += [ os.path.join(_pfx, 'include') ]\n",
      "cfg['extra_link_args'] += ['-rpath', os.path.join(_pfx, 'lib')]\n",
      "cfg['library_dirs'] += [ os.path.join(_pfx, 'lib') ]\n",
      "cfg['libraries'] += ['boost_python' +\n",
      "                     str(sys.version_info.major) + str(sys.version_info.minor)]\n",
      "%>*/\n",
      "') \u001b[92m )\u001b[0m\n",
      "INF:cppimport.magic:C/C++ objects: operators.NumberLike\n"
     ]
    },
    {
     "name": "stderr",
     "output_type": "stream",
     "text": [
      "<frozen importlib._bootstrap>:241: RuntimeWarning: to-Python converter for NumberLike already registered; second conversion method ignored.\n"
     ]
    },
    {
     "name": "stdout",
     "output_type": "stream",
     "text": [
      "\u001b[92m exec(\u001b[0m n = operators.NumberLike(7)\n",
      "m = n + 2\n",
      "assert str(m) == '9'\n",
      "n0 = operators.NumberLike()\n",
      "m0 = n0 + 1\n",
      "assert repr(m0) == 'NumberLike(1)'\n",
      "print(n, m, str(m), n0, m0, repr(m0)) \u001b[92m )\u001b[0m\n",
      "7 9 9 0 1 NumberLike(1)\n",
      "\u001b[92m exec(\u001b[0m get_ipython().run_cell_magic('writefile', '.temp_test_extra_sources1.cpp', '// Source:\n",
      "// https://github.com/tbenthompson/cppimport/blob/main/tests/extra_sources1.cpp\n",
      "int square(int x) {\n",
      "    return x * x;\n",
      "}\n",
      "') \u001b[92m )\u001b[0m\n",
      "Overwriting .temp_test_extra_sources1.cpp\n",
      "\u001b[92m exec(\u001b[0m get_ipython().run_cell_magic('cppimport', 'extra_sources.cpp', '// Source:\n",
      "// https://github.com/tbenthompson/cppimport/blob/main/tests/extra_sources.cpp\n",
      "#include <pybind11/pybind11.h>\n",
      "\n",
      "int square(int x);\n",
      "\n",
      "int square_sum(int x, int y) {\n",
      "    return square(x) + square(y);\n",
      "}\n",
      "\n",
      "PYBIND11_MODULE(extra_sources, m) {\n",
      "    m.def(\"square_sum\", &square_sum);\n",
      "}\n",
      "/*<%\n",
      "import os\n",
      "setup_pybind11(cfg)\n",
      "cfg['sources'] = [os.path.abspath('.temp_test_extra_sources1.cpp')]\n",
      "cfg['parallel'] = True\n",
      "%>*/\n",
      "') \u001b[92m )\u001b[0m\n",
      "INF:cppimport.magic:C/C++ objects: extra_sources.square_sum\n",
      "\u001b[92m exec(\u001b[0m assert 25 == extra_sources.square_sum(3, 4) \u001b[92m )\u001b[0m\n",
      "\u001b[92m exec(\u001b[0m get_ipython().run_cell_magic('writefile', '.temp_test_thing.h', '// Source:\n",
      "// https://github.com/tbenthompson/cppimport/blob/main/tests/test_cppimport.py\n",
      "#include <iostream>\n",
      "struct Thing {\n",
      "    void cheer() {\n",
      "        std::cout << \"WAHHOOOO\" << std::endl;\n",
      "    }\n",
      "};\n",
      "#define THING_DEFINED\n",
      "') \u001b[92m )\u001b[0m\n",
      "Overwriting .temp_test_thing.h\n",
      "\u001b[92m exec(\u001b[0m get_ipython().run_cell_magic('writefile', '.temp_test_thing2.h', '// This file is intentionally left empty.\n",
      "') \u001b[92m )\u001b[0m\n",
      "Overwriting .temp_test_thing2.h\n",
      "\u001b[92m exec(\u001b[0m get_ipython().run_cell_magic('cppimport', 'mymodule.cpp', '// Source:\n",
      "// https://github.com/tbenthompson/cppimport/blob/main/tests/mymodule.cpp\n",
      "#include <pybind11/pybind11.h>\n",
      "#include \".temp_test_thing.h\"\n",
      "#include \".temp_test_thing2.h\"\n",
      "\n",
      "namespace py = pybind11;\n",
      "\n",
      "int add(int i, int j) {\n",
      "    return i + j;\n",
      "}\n",
      "\n",
      "PYBIND11_MODULE(mymodule, m) {\n",
      "    m.def(\"add\", &add);\n",
      "#ifdef THING_DEFINED\n",
      "    // #pragma message \"stuff\"\n",
      "    py::class_<Thing>(m, \"Thing\", py::module_local())\n",
      "        .def(py::init<>())\n",
      "        .def(\"cheer\", &Thing::cheer);\n",
      "#endif\n",
      "}\n",
      "/*<%\n",
      "import os\n",
      "setup_pybind11(cfg)\n",
      "cfg['include_dirs'] += [os.path.abspath('.')]\n",
      "cfg['dependencies'] += [os.path.abspath('.temp_test_thing.h')]\n",
      "%>*/\n",
      "') \u001b[92m )\u001b[0m\n",
      "INF:cppimport.magic:C/C++ objects: mymodule.add mymodule.Thing\n",
      "\u001b[92m exec(\u001b[0m assert 8 == mymodule.add(3, 5) \u001b[92m )\u001b[0m\n",
      "\u001b[92m exec(\u001b[0m mymodule.Thing().cheer() \u001b[92m )\u001b[0m\n",
      "WAHHOOOO\n",
      "\u001b[92m exec(\u001b[0m import sys\n",
      "\n",
      "(mymodule.__file__,\n",
      " [k for k in sys.modules if 'mymodule' in k],\n",
      " mymodule.__name__) \u001b[92m )\u001b[0m\n",
      "\u001b[95m exec(  get_ipython().run_line_magic('cppimport_config', '-vvv');  )\u001b[0m\n",
      "INF:cppimport.magic:New default arguments for %%cppimport: -vvv\n",
      "\u001b[92m exec(\u001b[0m get_ipython().run_cell_magic('cppimport', 'somecode.cpp', '// Source:\n",
      "// https://github.com/tbenthompson/cppimport\n",
      "#include <pybind11/pybind11.h>\n",
      "\n",
      "namespace py = pybind11;\n",
      "\n",
      "int square(int x) {\n",
      "    return x * x;\n",
      "}\n",
      "\n",
      "PYBIND11_MODULE(somecode, m) {\n",
      "    m.def(\"square\", &square);\n",
      "}\n",
      "/*<%\n",
      "setup_pybind11(cfg)\n",
      "%>*/\n",
      "') \u001b[92m )\u001b[0m\n",
      "DEBUG:filelock:Attempting to acquire lock 4370416336 on /Users/leo/.cache/ipython/cppimport/9a9a5adc/b4f6aa0c0e5cfa196a7e67b96c643f22/_b4f6aa0c0e5cfa196a7e67b96c643f22_somecode.cpython-311-darwin.so.lock\n",
      "DEBUG:filelock:Lock 4370416336 acquired on /Users/leo/.cache/ipython/cppimport/9a9a5adc/b4f6aa0c0e5cfa196a7e67b96c643f22/_b4f6aa0c0e5cfa196a7e67b96c643f22_somecode.cpython-311-darwin.so.lock\n",
      "DEBUG:cppimport.importer:Compiling /Users/leo/.cache/ipython/cppimport/9a9a5adc/b4f6aa0c0e5cfa196a7e67b96c643f22/somecode.cpp.\n",
      "INFO:root:running build_ext\n",
      "INFO:root:building '_b4f6aa0c0e5cfa196a7e67b96c643f22_somecode' extension\n",
      "INFO:root:creating /var/folders/wy/z0gbkfgs7mv24ryqkdm90rm40009rh/T/tmprdsky53i/Users\n",
      "INFO:root:creating /var/folders/wy/z0gbkfgs7mv24ryqkdm90rm40009rh/T/tmprdsky53i/Users/leo\n",
      "INFO:root:creating /var/folders/wy/z0gbkfgs7mv24ryqkdm90rm40009rh/T/tmprdsky53i/Users/leo/.cache\n",
      "INFO:root:creating /var/folders/wy/z0gbkfgs7mv24ryqkdm90rm40009rh/T/tmprdsky53i/Users/leo/.cache/ipython\n",
      "INFO:root:creating /var/folders/wy/z0gbkfgs7mv24ryqkdm90rm40009rh/T/tmprdsky53i/Users/leo/.cache/ipython/cppimport\n",
      "INFO:root:creating /var/folders/wy/z0gbkfgs7mv24ryqkdm90rm40009rh/T/tmprdsky53i/Users/leo/.cache/ipython/cppimport/9a9a5adc\n",
      "INFO:root:creating /var/folders/wy/z0gbkfgs7mv24ryqkdm90rm40009rh/T/tmprdsky53i/Users/leo/.cache/ipython/cppimport/9a9a5adc/b4f6aa0c0e5cfa196a7e67b96c643f22\n",
      "INFO:root:/usr/bin/clang -fno-common -dynamic -DNDEBUG -g -fwrapv -O3 -Wall -pipe -Os -isysroot/Library/Developer/CommandLineTools/SDKs/MacOSX13.sdk -I/opt/local/Library/Frameworks/Python.framework/Versions/3.11/lib/python3.11/site-packages/pybind11/include -I/opt/local/Library/Frameworks/Python.framework/Versions/3.11/lib/python3.11/site-packages/pybind11/include -I/Users/leo/.cache/ipython/cppimport/9a9a5adc/b4f6aa0c0e5cfa196a7e67b96c643f22 -I/opt/local/Library/Frameworks/Python.framework/Versions/3.11/include/python3.11 -c /Users/leo/.cache/ipython/cppimport/9a9a5adc/b4f6aa0c0e5cfa196a7e67b96c643f22/.rendered.somecode.cpp -o /var/folders/wy/z0gbkfgs7mv24ryqkdm90rm40009rh/T/tmprdsky53i/Users/leo/.cache/ipython/cppimport/9a9a5adc/b4f6aa0c0e5cfa196a7e67b96c643f22/.rendered.somecode.o -DPyInit_somecode=PyInit__b4f6aa0c0e5cfa196a7e67b96c643f22_somecode -std=c++11 -fvisibility=hidden\n",
      "INFO:root:/usr/bin/clang++ -bundle -undefined dynamic_lookup -L/opt/local/lib -Wl,-headerpad_max_install_names -Wl,-syslibroot,/Library/Developer/CommandLineTools/SDKs/MacOSX13.sdk /var/folders/wy/z0gbkfgs7mv24ryqkdm90rm40009rh/T/tmprdsky53i/Users/leo/.cache/ipython/cppimport/9a9a5adc/b4f6aa0c0e5cfa196a7e67b96c643f22/.rendered.somecode.o -o /var/folders/wy/z0gbkfgs7mv24ryqkdm90rm40009rh/T/tmprdsky53i/_b4f6aa0c0e5cfa196a7e67b96c643f22_somecode.cpython-311-darwin.so\n",
      "INFO:root:copying /var/folders/wy/z0gbkfgs7mv24ryqkdm90rm40009rh/T/tmprdsky53i/_b4f6aa0c0e5cfa196a7e67b96c643f22_somecode.cpython-311-darwin.so -> /Users/leo/.cache/ipython/cppimport/9a9a5adc/b4f6aa0c0e5cfa196a7e67b96c643f22\n",
      "INF:cppimport.magic:C/C++ objects: somecode.square\n",
      "\u001b[92m exec(\u001b[0m assert 4 == somecode.square(2) \u001b[92m )\u001b[0m\n",
      "\u001b[92m exec(\u001b[0m get_ipython().run_cell_magic('cppimport', 'cpp14module.cpp', '// Source:\n",
      "// https://github.com/tbenthompson/cppimport/blob/main/tests/cpp14module.cpp\n",
      "#include <pybind11/pybind11.h>\n",
      "\n",
      "namespace py = pybind11;\n",
      "\n",
      "// Use auto instead of int to check C++14\n",
      "auto add(int i, int j) {\n",
      "    return i + j;\n",
      "}\n",
      "\n",
      "PYBIND11_MODULE(cpp14module, m) {\n",
      "    m.def(\"add\", &add);\n",
      "}\n",
      "/*<%\n",
      "import pybind11\n",
      "cfg['compiler_args'] = ['-std=c++14']\n",
      "cfg['include_dirs'] = [pybind11.get_include(), pybind11.get_include(True)]\n",
      "%>*/\n",
      "') \u001b[92m )\u001b[0m\n",
      "DEBUG:filelock:Attempting to acquire lock 4370382352 on /Users/leo/.cache/ipython/cppimport/9a9a5adc/1c3e745120aac1c48ecb6fe4f5063a46/_1c3e745120aac1c48ecb6fe4f5063a46_cpp14module.cpython-311-darwin.so.lock\n",
      "DEBUG:filelock:Lock 4370382352 acquired on /Users/leo/.cache/ipython/cppimport/9a9a5adc/1c3e745120aac1c48ecb6fe4f5063a46/_1c3e745120aac1c48ecb6fe4f5063a46_cpp14module.cpython-311-darwin.so.lock\n",
      "DEBUG:cppimport.importer:Compiling /Users/leo/.cache/ipython/cppimport/9a9a5adc/1c3e745120aac1c48ecb6fe4f5063a46/cpp14module.cpp.\n",
      "INFO:root:running build_ext\n",
      "INFO:root:building '_1c3e745120aac1c48ecb6fe4f5063a46_cpp14module' extension\n",
      "INFO:root:creating /var/folders/wy/z0gbkfgs7mv24ryqkdm90rm40009rh/T/tmp808gypo7/Users\n",
      "INFO:root:creating /var/folders/wy/z0gbkfgs7mv24ryqkdm90rm40009rh/T/tmp808gypo7/Users/leo\n",
      "INFO:root:creating /var/folders/wy/z0gbkfgs7mv24ryqkdm90rm40009rh/T/tmp808gypo7/Users/leo/.cache\n",
      "INFO:root:creating /var/folders/wy/z0gbkfgs7mv24ryqkdm90rm40009rh/T/tmp808gypo7/Users/leo/.cache/ipython\n",
      "INFO:root:creating /var/folders/wy/z0gbkfgs7mv24ryqkdm90rm40009rh/T/tmp808gypo7/Users/leo/.cache/ipython/cppimport\n",
      "INFO:root:creating /var/folders/wy/z0gbkfgs7mv24ryqkdm90rm40009rh/T/tmp808gypo7/Users/leo/.cache/ipython/cppimport/9a9a5adc\n",
      "INFO:root:creating /var/folders/wy/z0gbkfgs7mv24ryqkdm90rm40009rh/T/tmp808gypo7/Users/leo/.cache/ipython/cppimport/9a9a5adc/1c3e745120aac1c48ecb6fe4f5063a46\n",
      "INFO:root:/usr/bin/clang -fno-common -dynamic -DNDEBUG -g -fwrapv -O3 -Wall -pipe -Os -isysroot/Library/Developer/CommandLineTools/SDKs/MacOSX13.sdk -I/opt/local/Library/Frameworks/Python.framework/Versions/3.11/lib/python3.11/site-packages/pybind11/include -I/opt/local/Library/Frameworks/Python.framework/Versions/3.11/lib/python3.11/site-packages/pybind11/include -I/Users/leo/.cache/ipython/cppimport/9a9a5adc/1c3e745120aac1c48ecb6fe4f5063a46 -I/opt/local/Library/Frameworks/Python.framework/Versions/3.11/include/python3.11 -c /Users/leo/.cache/ipython/cppimport/9a9a5adc/1c3e745120aac1c48ecb6fe4f5063a46/.rendered.cpp14module.cpp -o /var/folders/wy/z0gbkfgs7mv24ryqkdm90rm40009rh/T/tmp808gypo7/Users/leo/.cache/ipython/cppimport/9a9a5adc/1c3e745120aac1c48ecb6fe4f5063a46/.rendered.cpp14module.o -DPyInit_cpp14module=PyInit__1c3e745120aac1c48ecb6fe4f5063a46_cpp14module -std=c++14\n",
      "INFO:root:/usr/bin/clang++ -bundle -undefined dynamic_lookup -L/opt/local/lib -Wl,-headerpad_max_install_names -Wl,-syslibroot,/Library/Developer/CommandLineTools/SDKs/MacOSX13.sdk /var/folders/wy/z0gbkfgs7mv24ryqkdm90rm40009rh/T/tmp808gypo7/Users/leo/.cache/ipython/cppimport/9a9a5adc/1c3e745120aac1c48ecb6fe4f5063a46/.rendered.cpp14module.o -o /var/folders/wy/z0gbkfgs7mv24ryqkdm90rm40009rh/T/tmp808gypo7/_1c3e745120aac1c48ecb6fe4f5063a46_cpp14module.cpython-311-darwin.so\n",
      "INFO:root:copying /var/folders/wy/z0gbkfgs7mv24ryqkdm90rm40009rh/T/tmp808gypo7/_1c3e745120aac1c48ecb6fe4f5063a46_cpp14module.cpython-311-darwin.so -> /Users/leo/.cache/ipython/cppimport/9a9a5adc/1c3e745120aac1c48ecb6fe4f5063a46\n",
      "INF:cppimport.magic:C/C++ objects: cpp14module.add\n",
      "\u001b[92m exec(\u001b[0m assert 18 == cpp14module.add(7, 11) \u001b[92m )\u001b[0m\n",
      "\u001b[92m exec(\u001b[0m get_ipython().run_cell_magic('cppimport', 'raw_extension.c', '// Source:\n",
      "// https://github.com/tbenthompson/cppimport/blob/main/tests/raw_extension.c\n",
      "#include <Python.h>\n",
      "\n",
      "#if PY_MAJOR_VERSION >= 3\n",
      "    #define MOD_INIT(name) PyMODINIT_FUNC PyInit_##name(void)\n",
      "    #define MOD_DEF(ob, name, doc, methods) \\\\\n",
      "        static struct PyModuleDef moduledef = { \\\\\n",
      "            PyModuleDef_HEAD_INIT, name, doc, -1, methods, }; \\\\\n",
      "        ob = PyModule_Create(&moduledef);\n",
      "    #define MOD_SUCCESS_VAL(val) val\n",
      "#else\n",
      "    #define MOD_INIT(name) PyMODINIT_FUNC init##name(void)\n",
      "    #define MOD_DEF(ob, name, doc, methods) \\\\\n",
      "        ob = Py_InitModule3(name, methods, doc);\n",
      "    #define MOD_SUCCESS_VAL(val)\n",
      "#endif\n",
      "\n",
      "static PyObject* add(PyObject* self, PyObject* args) {\n",
      "    int a, b;\n",
      "    //int class = 1;\n",
      "    if (!PyArg_ParseTuple(args, \"ii\", &a, &b)) {\n",
      "        return NULL;\n",
      "    }\n",
      "    return Py_BuildValue(\"i\", a + b);\n",
      "}\n",
      "\n",
      "static PyMethodDef methods[] = {\n",
      "    {\"add\", add, METH_VARARGS,\n",
      "     \"add(a: np.int32, b: np.int32) -> np.int32)\"},\n",
      "    {NULL}\n",
      "};\n",
      "\n",
      "MOD_INIT(raw_extension) {\n",
      "    PyObject* m;\n",
      "    MOD_DEF(m, \"raw_extension\", \"\", methods)\n",
      "    return MOD_SUCCESS_VAL(m);\n",
      "}\n",
      "') \u001b[92m )\u001b[0m\n",
      "DEBUG:filelock:Attempting to acquire lock 4370427664 on /Users/leo/.cache/ipython/cppimport/9a9a5adc/944f2cf2d878f5273bda55d2a0963f36/_944f2cf2d878f5273bda55d2a0963f36_raw_extension.cpython-311-darwin.so.lock\n",
      "DEBUG:filelock:Lock 4370427664 acquired on /Users/leo/.cache/ipython/cppimport/9a9a5adc/944f2cf2d878f5273bda55d2a0963f36/_944f2cf2d878f5273bda55d2a0963f36_raw_extension.cpython-311-darwin.so.lock\n",
      "DEBUG:cppimport.importer:Compiling /Users/leo/.cache/ipython/cppimport/9a9a5adc/944f2cf2d878f5273bda55d2a0963f36/raw_extension.c.\n",
      "INFO:root:running build_ext\n",
      "INFO:root:building '_944f2cf2d878f5273bda55d2a0963f36_raw_extension' extension\n",
      "INFO:root:creating /var/folders/wy/z0gbkfgs7mv24ryqkdm90rm40009rh/T/tmpsanf0opu/Users\n",
      "INFO:root:creating /var/folders/wy/z0gbkfgs7mv24ryqkdm90rm40009rh/T/tmpsanf0opu/Users/leo\n",
      "INFO:root:creating /var/folders/wy/z0gbkfgs7mv24ryqkdm90rm40009rh/T/tmpsanf0opu/Users/leo/.cache\n",
      "INFO:root:creating /var/folders/wy/z0gbkfgs7mv24ryqkdm90rm40009rh/T/tmpsanf0opu/Users/leo/.cache/ipython\n",
      "INFO:root:creating /var/folders/wy/z0gbkfgs7mv24ryqkdm90rm40009rh/T/tmpsanf0opu/Users/leo/.cache/ipython/cppimport\n",
      "INFO:root:creating /var/folders/wy/z0gbkfgs7mv24ryqkdm90rm40009rh/T/tmpsanf0opu/Users/leo/.cache/ipython/cppimport/9a9a5adc\n",
      "INFO:root:creating /var/folders/wy/z0gbkfgs7mv24ryqkdm90rm40009rh/T/tmpsanf0opu/Users/leo/.cache/ipython/cppimport/9a9a5adc/944f2cf2d878f5273bda55d2a0963f36\n",
      "INFO:root:/usr/bin/clang -fno-common -dynamic -DNDEBUG -g -fwrapv -O3 -Wall -pipe -Os -isysroot/Library/Developer/CommandLineTools/SDKs/MacOSX13.sdk -I/Users/leo/.cache/ipython/cppimport/9a9a5adc/944f2cf2d878f5273bda55d2a0963f36 -I/opt/local/Library/Frameworks/Python.framework/Versions/3.11/include/python3.11 -c /Users/leo/.cache/ipython/cppimport/9a9a5adc/944f2cf2d878f5273bda55d2a0963f36/.rendered.raw_extension.c -o /var/folders/wy/z0gbkfgs7mv24ryqkdm90rm40009rh/T/tmpsanf0opu/Users/leo/.cache/ipython/cppimport/9a9a5adc/944f2cf2d878f5273bda55d2a0963f36/.rendered.raw_extension.o -DPyInit_raw_extension=PyInit__944f2cf2d878f5273bda55d2a0963f36_raw_extension\n",
      "INFO:root:/usr/bin/clang++ -bundle -undefined dynamic_lookup -L/opt/local/lib -Wl,-headerpad_max_install_names -Wl,-syslibroot,/Library/Developer/CommandLineTools/SDKs/MacOSX13.sdk /var/folders/wy/z0gbkfgs7mv24ryqkdm90rm40009rh/T/tmpsanf0opu/Users/leo/.cache/ipython/cppimport/9a9a5adc/944f2cf2d878f5273bda55d2a0963f36/.rendered.raw_extension.o -o /var/folders/wy/z0gbkfgs7mv24ryqkdm90rm40009rh/T/tmpsanf0opu/_944f2cf2d878f5273bda55d2a0963f36_raw_extension.cpython-311-darwin.so\n",
      "INFO:root:copying /var/folders/wy/z0gbkfgs7mv24ryqkdm90rm40009rh/T/tmpsanf0opu/_944f2cf2d878f5273bda55d2a0963f36_raw_extension.cpython-311-darwin.so -> /Users/leo/.cache/ipython/cppimport/9a9a5adc/944f2cf2d878f5273bda55d2a0963f36\n",
      "INF:cppimport.magic:C/C++ objects: raw_extension.add\n",
      "\u001b[92m exec(\u001b[0m assert 7 == raw_extension.add(2, 5) \u001b[92m )\u001b[0m\n",
      "\u001b[92m exec(\u001b[0m get_ipython().run_cell_magic('cppimport', 'operators.cpp', '// Source:\n",
      "// https://github.com/TNG/boost-python-examples/blob/main/07-Operators/operators.cpp\n",
      "#include <sstream>\n",
      "#include <string>\n",
      "\n",
      "class NumberLike {\n",
      "public:\n",
      "    NumberLike(int n = 0) : mN(n) {}\n",
      "    NumberLike& operator+= (int i) {\n",
      "        mN += i;\n",
      "        return *this;\n",
      "    }\n",
      "    std::string str() const {\n",
      "        std::stringstream s;\n",
      "        s << mN;\n",
      "        return s.str();\n",
      "    }\n",
      "    std::string repr() const {\n",
      "        std::stringstream s;\n",
      "        s << \"NumberLike(\"<< mN << \")\";\n",
      "        return s.str();\n",
      "    }\n",
      "private:\n",
      "    int mN;\n",
      "};\n",
      "\n",
      "NumberLike operator+(NumberLike n, int i) {    n += i;\n",
      "    return n;\n",
      "};\n",
      "\n",
      "#include <boost/python.hpp>\n",
      "using namespace boost::python;\n",
      "\n",
      "BOOST_PYTHON_MODULE(operators) {\n",
      "    class_<NumberLike>(\"NumberLike\")\n",
      "        .def(init< optional<int> >())\n",
      "        .def(self + int())\n",
      "        .def(\"__str__\", &NumberLike::str)\n",
      "        .def(\"__repr__\", &NumberLike::repr)\n",
      "    ;\n",
      "}\n",
      "/*<%\n",
      "import os\n",
      "import sys\n",
      "_pfx = os.environ.get('CONDA_PREFIX', '/usr')\n",
      "cfg['compiler_args'] += ['-std=c++14']\n",
      "cfg['include_dirs'] += [ os.path.join(_pfx, 'include') ]\n",
      "cfg['extra_link_args'] += ['-rpath', os.path.join(_pfx, 'lib')]\n",
      "cfg['library_dirs'] += [ os.path.join(_pfx, 'lib') ]\n",
      "cfg['libraries'] += ['boost_python' +\n",
      "                     str(sys.version_info.major) + str(sys.version_info.minor)]\n",
      "%>*/\n",
      "') \u001b[92m )\u001b[0m\n",
      "DEBUG:filelock:Attempting to acquire lock 4370410768 on /Users/leo/.cache/ipython/cppimport/9a9a5adc/3a96aa9239f050f0b4e5b7ff55d02ddf/_3a96aa9239f050f0b4e5b7ff55d02ddf_operators.cpython-311-darwin.so.lock\n",
      "DEBUG:filelock:Lock 4370410768 acquired on /Users/leo/.cache/ipython/cppimport/9a9a5adc/3a96aa9239f050f0b4e5b7ff55d02ddf/_3a96aa9239f050f0b4e5b7ff55d02ddf_operators.cpython-311-darwin.so.lock\n",
      "DEBUG:cppimport.importer:Compiling /Users/leo/.cache/ipython/cppimport/9a9a5adc/3a96aa9239f050f0b4e5b7ff55d02ddf/operators.cpp.\n",
      "INFO:root:running build_ext\n",
      "INFO:root:building '_3a96aa9239f050f0b4e5b7ff55d02ddf_operators' extension\n",
      "INFO:root:creating /var/folders/wy/z0gbkfgs7mv24ryqkdm90rm40009rh/T/tmpexi6wt7t/Users\n",
      "INFO:root:creating /var/folders/wy/z0gbkfgs7mv24ryqkdm90rm40009rh/T/tmpexi6wt7t/Users/leo\n",
      "INFO:root:creating /var/folders/wy/z0gbkfgs7mv24ryqkdm90rm40009rh/T/tmpexi6wt7t/Users/leo/.cache\n",
      "INFO:root:creating /var/folders/wy/z0gbkfgs7mv24ryqkdm90rm40009rh/T/tmpexi6wt7t/Users/leo/.cache/ipython\n",
      "INFO:root:creating /var/folders/wy/z0gbkfgs7mv24ryqkdm90rm40009rh/T/tmpexi6wt7t/Users/leo/.cache/ipython/cppimport\n",
      "INFO:root:creating /var/folders/wy/z0gbkfgs7mv24ryqkdm90rm40009rh/T/tmpexi6wt7t/Users/leo/.cache/ipython/cppimport/9a9a5adc\n",
      "INFO:root:creating /var/folders/wy/z0gbkfgs7mv24ryqkdm90rm40009rh/T/tmpexi6wt7t/Users/leo/.cache/ipython/cppimport/9a9a5adc/3a96aa9239f050f0b4e5b7ff55d02ddf\n",
      "INFO:root:/usr/bin/clang -fno-common -dynamic -DNDEBUG -g -fwrapv -O3 -Wall -pipe -Os -isysroot/Library/Developer/CommandLineTools/SDKs/MacOSX13.sdk -I/Users/leo/opt/anaconda3/envs/ci11a/include -I/Users/leo/.cache/ipython/cppimport/9a9a5adc/3a96aa9239f050f0b4e5b7ff55d02ddf -I/opt/local/Library/Frameworks/Python.framework/Versions/3.11/include/python3.11 -c /Users/leo/.cache/ipython/cppimport/9a9a5adc/3a96aa9239f050f0b4e5b7ff55d02ddf/.rendered.operators.cpp -o /var/folders/wy/z0gbkfgs7mv24ryqkdm90rm40009rh/T/tmpexi6wt7t/Users/leo/.cache/ipython/cppimport/9a9a5adc/3a96aa9239f050f0b4e5b7ff55d02ddf/.rendered.operators.o -DPyInit_operators=PyInit__3a96aa9239f050f0b4e5b7ff55d02ddf_operators -std=c++14\n",
      "INFO:root:/usr/bin/clang++ -bundle -undefined dynamic_lookup -L/opt/local/lib -Wl,-headerpad_max_install_names -Wl,-syslibroot,/Library/Developer/CommandLineTools/SDKs/MacOSX13.sdk /var/folders/wy/z0gbkfgs7mv24ryqkdm90rm40009rh/T/tmpexi6wt7t/Users/leo/.cache/ipython/cppimport/9a9a5adc/3a96aa9239f050f0b4e5b7ff55d02ddf/.rendered.operators.o -L/Users/leo/opt/anaconda3/envs/ci11a/lib -lboost_python311 -o /var/folders/wy/z0gbkfgs7mv24ryqkdm90rm40009rh/T/tmpexi6wt7t/_3a96aa9239f050f0b4e5b7ff55d02ddf_operators.cpython-311-darwin.so -rpath /Users/leo/opt/anaconda3/envs/ci11a/lib\n",
      "INFO:root:copying /var/folders/wy/z0gbkfgs7mv24ryqkdm90rm40009rh/T/tmpexi6wt7t/_3a96aa9239f050f0b4e5b7ff55d02ddf_operators.cpython-311-darwin.so -> /Users/leo/.cache/ipython/cppimport/9a9a5adc/3a96aa9239f050f0b4e5b7ff55d02ddf\n",
      "INF:cppimport.magic:C/C++ objects: operators.NumberLike\n",
      "\u001b[92m exec(\u001b[0m n = operators.NumberLike(7)\n",
      "m = n + 2\n",
      "assert str(m) == '9'\n",
      "n0 = operators.NumberLike()\n",
      "m0 = n0 + 1\n",
      "assert repr(m0) == 'NumberLike(1)'\n",
      "print(n, m, str(m), n0, m0, repr(m0)) \u001b[92m )\u001b[0m\n",
      "7 9 9 0 1 NumberLike(1)\n",
      "\u001b[92m exec(\u001b[0m get_ipython().run_cell_magic('writefile', '.temp_test_extra_sources1.cpp', '// Source:\n",
      "// https://github.com/tbenthompson/cppimport/blob/main/tests/extra_sources1.cpp\n",
      "int square(int x) {\n",
      "    return x * x;\n",
      "}\n",
      "') \u001b[92m )\u001b[0m\n",
      "Overwriting .temp_test_extra_sources1.cpp\n",
      "\u001b[92m exec(\u001b[0m get_ipython().run_cell_magic('cppimport', 'extra_sources.cpp', '// Source:\n",
      "// https://github.com/tbenthompson/cppimport/blob/main/tests/extra_sources.cpp\n",
      "#include <pybind11/pybind11.h>\n",
      "\n",
      "int square(int x);\n",
      "\n",
      "int square_sum(int x, int y) {\n",
      "    return square(x) + square(y);\n",
      "}\n",
      "\n",
      "PYBIND11_MODULE(extra_sources, m) {\n",
      "    m.def(\"square_sum\", &square_sum);\n",
      "}\n",
      "/*<%\n",
      "import os\n",
      "setup_pybind11(cfg)\n",
      "cfg['sources'] = [os.path.abspath('.temp_test_extra_sources1.cpp')]\n",
      "cfg['parallel'] = True\n",
      "%>*/\n",
      "') \u001b[92m )\u001b[0m\n",
      "DEBUG:filelock:Attempting to acquire lock 4370282512 on /Users/leo/.cache/ipython/cppimport/9a9a5adc/7cdb77fc4d6de7e97639a2a8b673c15c/_7cdb77fc4d6de7e97639a2a8b673c15c_extra_sources.cpython-311-darwin.so.lock\n",
      "DEBUG:filelock:Lock 4370282512 acquired on /Users/leo/.cache/ipython/cppimport/9a9a5adc/7cdb77fc4d6de7e97639a2a8b673c15c/_7cdb77fc4d6de7e97639a2a8b673c15c_extra_sources.cpython-311-darwin.so.lock\n",
      "DEBUG:cppimport.importer:Compiling /Users/leo/.cache/ipython/cppimport/9a9a5adc/7cdb77fc4d6de7e97639a2a8b673c15c/extra_sources.cpp.\n",
      "INFO:root:running build_ext\n",
      "INFO:root:building '_7cdb77fc4d6de7e97639a2a8b673c15c_extra_sources' extension\n",
      "INFO:root:creating /var/folders/wy/z0gbkfgs7mv24ryqkdm90rm40009rh/T/tmpcaq2y6ww/Users\n",
      "INFO:root:creating /var/folders/wy/z0gbkfgs7mv24ryqkdm90rm40009rh/T/tmpcaq2y6ww/Users/leo\n",
      "INFO:root:creating /var/folders/wy/z0gbkfgs7mv24ryqkdm90rm40009rh/T/tmpcaq2y6ww/Users/leo/.cache\n",
      "INFO:root:creating /var/folders/wy/z0gbkfgs7mv24ryqkdm90rm40009rh/T/tmpcaq2y6ww/Users/leo/.cache/ipython\n",
      "INFO:root:creating /var/folders/wy/z0gbkfgs7mv24ryqkdm90rm40009rh/T/tmpcaq2y6ww/Users/leo/.cache/ipython/cppimport\n",
      "INFO:root:creating /var/folders/wy/z0gbkfgs7mv24ryqkdm90rm40009rh/T/tmpcaq2y6ww/Users/leo/.cache/ipython/cppimport/9a9a5adc\n",
      "INFO:root:creating /var/folders/wy/z0gbkfgs7mv24ryqkdm90rm40009rh/T/tmpcaq2y6ww/Users/leo/.cache/ipython/cppimport/9a9a5adc/7cdb77fc4d6de7e97639a2a8b673c15c\n",
      "INFO:root:creating /var/folders/wy/z0gbkfgs7mv24ryqkdm90rm40009rh/T/tmpcaq2y6ww/Users/leo/soft\n",
      "INFO:root:creating /var/folders/wy/z0gbkfgs7mv24ryqkdm90rm40009rh/T/tmpcaq2y6ww/Users/leo/soft/valq\n",
      "INFO:root:creating /var/folders/wy/z0gbkfgs7mv24ryqkdm90rm40009rh/T/tmpcaq2y6ww/Users/leo/soft/valq/Yandex-Q\n",
      "INFO:root:creating /var/folders/wy/z0gbkfgs7mv24ryqkdm90rm40009rh/T/tmpcaq2y6ww/Users/leo/soft/valq/Yandex-Q/fortran_magic\n",
      "INFO:root:creating /var/folders/wy/z0gbkfgs7mv24ryqkdm90rm40009rh/T/tmpcaq2y6ww/Users/leo/soft/valq/Yandex-Q/fortran_magic/cppimport\n",
      "INFO:root:/usr/bin/clang -fno-common -dynamic -DNDEBUG -g -fwrapv -O3 -Wall -pipe -Os -isysroot/Library/Developer/CommandLineTools/SDKs/MacOSX13.sdk -I/opt/local/Library/Frameworks/Python.framework/Versions/3.11/lib/python3.11/site-packages/pybind11/include -I/opt/local/Library/Frameworks/Python.framework/Versions/3.11/lib/python3.11/site-packages/pybind11/include -I/Users/leo/.cache/ipython/cppimport/9a9a5adc/7cdb77fc4d6de7e97639a2a8b673c15c -I/opt/local/Library/Frameworks/Python.framework/Versions/3.11/include/python3.11 -c /Users/leo/.cache/ipython/cppimport/9a9a5adc/7cdb77fc4d6de7e97639a2a8b673c15c/.rendered.extra_sources.cpp -o /var/folders/wy/z0gbkfgs7mv24ryqkdm90rm40009rh/T/tmpcaq2y6ww/Users/leo/.cache/ipython/cppimport/9a9a5adc/7cdb77fc4d6de7e97639a2a8b673c15c/.rendered.extra_sources.o -DPyInit_extra_sources=PyInit__7cdb77fc4d6de7e97639a2a8b673c15c_extra_sources -std=c++11 -fvisibility=hidden\n",
      "INFO:root:/usr/bin/clang -fno-common -dynamic -DNDEBUG -g -fwrapv -O3 -Wall -pipe -Os -isysroot/Library/Developer/CommandLineTools/SDKs/MacOSX13.sdk -I/opt/local/Library/Frameworks/Python.framework/Versions/3.11/lib/python3.11/site-packages/pybind11/include -I/opt/local/Library/Frameworks/Python.framework/Versions/3.11/lib/python3.11/site-packages/pybind11/include -I/Users/leo/.cache/ipython/cppimport/9a9a5adc/7cdb77fc4d6de7e97639a2a8b673c15c -I/opt/local/Library/Frameworks/Python.framework/Versions/3.11/include/python3.11 -c /Users/leo/soft/valq/Yandex-Q/fortran_magic/cppimport/.temp_test_extra_sources1.cpp -o /var/folders/wy/z0gbkfgs7mv24ryqkdm90rm40009rh/T/tmpcaq2y6ww/Users/leo/soft/valq/Yandex-Q/fortran_magic/cppimport/.temp_test_extra_sources1.o -DPyInit_extra_sources=PyInit__7cdb77fc4d6de7e97639a2a8b673c15c_extra_sources -std=c++11 -fvisibility=hidden\n",
      "INFO:root:/usr/bin/clang++ -bundle -undefined dynamic_lookup -L/opt/local/lib -Wl,-headerpad_max_install_names -Wl,-syslibroot,/Library/Developer/CommandLineTools/SDKs/MacOSX13.sdk /var/folders/wy/z0gbkfgs7mv24ryqkdm90rm40009rh/T/tmpcaq2y6ww/Users/leo/.cache/ipython/cppimport/9a9a5adc/7cdb77fc4d6de7e97639a2a8b673c15c/.rendered.extra_sources.o /var/folders/wy/z0gbkfgs7mv24ryqkdm90rm40009rh/T/tmpcaq2y6ww/Users/leo/soft/valq/Yandex-Q/fortran_magic/cppimport/.temp_test_extra_sources1.o -o /var/folders/wy/z0gbkfgs7mv24ryqkdm90rm40009rh/T/tmpcaq2y6ww/_7cdb77fc4d6de7e97639a2a8b673c15c_extra_sources.cpython-311-darwin.so\n",
      "INFO:root:copying /var/folders/wy/z0gbkfgs7mv24ryqkdm90rm40009rh/T/tmpcaq2y6ww/_7cdb77fc4d6de7e97639a2a8b673c15c_extra_sources.cpython-311-darwin.so -> /Users/leo/.cache/ipython/cppimport/9a9a5adc/7cdb77fc4d6de7e97639a2a8b673c15c\n",
      "INF:cppimport.magic:C/C++ objects: extra_sources.square_sum\n",
      "\u001b[92m exec(\u001b[0m assert 25 == extra_sources.square_sum(3, 4) \u001b[92m )\u001b[0m\n",
      "\u001b[92m exec(\u001b[0m get_ipython().run_cell_magic('writefile', '.temp_test_thing.h', '// Source:\n",
      "// https://github.com/tbenthompson/cppimport/blob/main/tests/test_cppimport.py\n",
      "#include <iostream>\n",
      "struct Thing {\n",
      "    void cheer() {\n",
      "        std::cout << \"WAHHOOOO\" << std::endl;\n",
      "    }\n",
      "};\n",
      "#define THING_DEFINED\n",
      "') \u001b[92m )\u001b[0m\n",
      "Overwriting .temp_test_thing.h\n",
      "\u001b[92m exec(\u001b[0m get_ipython().run_cell_magic('writefile', '.temp_test_thing2.h', '// This file is intentionally left empty.\n",
      "') \u001b[92m )\u001b[0m\n",
      "Overwriting .temp_test_thing2.h\n",
      "\u001b[92m exec(\u001b[0m get_ipython().run_cell_magic('cppimport', 'mymodule.cpp', '// Source:\n",
      "// https://github.com/tbenthompson/cppimport/blob/main/tests/mymodule.cpp\n",
      "#include <pybind11/pybind11.h>\n",
      "#include \".temp_test_thing.h\"\n",
      "#include \".temp_test_thing2.h\"\n",
      "\n",
      "namespace py = pybind11;\n",
      "\n",
      "int add(int i, int j) {\n",
      "    return i + j;\n",
      "}\n",
      "\n",
      "PYBIND11_MODULE(mymodule, m) {\n",
      "    m.def(\"add\", &add);\n",
      "#ifdef THING_DEFINED\n",
      "    // #pragma message \"stuff\"\n",
      "    py::class_<Thing>(m, \"Thing\", py::module_local())\n",
      "        .def(py::init<>())\n",
      "        .def(\"cheer\", &Thing::cheer);\n",
      "#endif\n",
      "}\n",
      "/*<%\n",
      "import os\n",
      "setup_pybind11(cfg)\n",
      "cfg['include_dirs'] += [os.path.abspath('.')]\n",
      "cfg['dependencies'] += [os.path.abspath('.temp_test_thing.h')]\n",
      "%>*/\n",
      "') \u001b[92m )\u001b[0m\n",
      "DEBUG:filelock:Attempting to acquire lock 4368376464 on /Users/leo/.cache/ipython/cppimport/9a9a5adc/d473927694e465ba7aae22d3d13ca156/_d473927694e465ba7aae22d3d13ca156_mymodule.cpython-311-darwin.so.lock\n",
      "DEBUG:filelock:Lock 4368376464 acquired on /Users/leo/.cache/ipython/cppimport/9a9a5adc/d473927694e465ba7aae22d3d13ca156/_d473927694e465ba7aae22d3d13ca156_mymodule.cpython-311-darwin.so.lock\n",
      "DEBUG:cppimport.importer:Compiling /Users/leo/.cache/ipython/cppimport/9a9a5adc/d473927694e465ba7aae22d3d13ca156/mymodule.cpp.\n",
      "INFO:root:running build_ext\n",
      "INFO:root:building '_d473927694e465ba7aae22d3d13ca156_mymodule' extension\n",
      "INFO:root:creating /var/folders/wy/z0gbkfgs7mv24ryqkdm90rm40009rh/T/tmp17d6jtwb/Users\n",
      "INFO:root:creating /var/folders/wy/z0gbkfgs7mv24ryqkdm90rm40009rh/T/tmp17d6jtwb/Users/leo\n",
      "INFO:root:creating /var/folders/wy/z0gbkfgs7mv24ryqkdm90rm40009rh/T/tmp17d6jtwb/Users/leo/.cache\n",
      "INFO:root:creating /var/folders/wy/z0gbkfgs7mv24ryqkdm90rm40009rh/T/tmp17d6jtwb/Users/leo/.cache/ipython\n",
      "INFO:root:creating /var/folders/wy/z0gbkfgs7mv24ryqkdm90rm40009rh/T/tmp17d6jtwb/Users/leo/.cache/ipython/cppimport\n",
      "INFO:root:creating /var/folders/wy/z0gbkfgs7mv24ryqkdm90rm40009rh/T/tmp17d6jtwb/Users/leo/.cache/ipython/cppimport/9a9a5adc\n",
      "INFO:root:creating /var/folders/wy/z0gbkfgs7mv24ryqkdm90rm40009rh/T/tmp17d6jtwb/Users/leo/.cache/ipython/cppimport/9a9a5adc/d473927694e465ba7aae22d3d13ca156\n",
      "INFO:root:/usr/bin/clang -fno-common -dynamic -DNDEBUG -g -fwrapv -O3 -Wall -pipe -Os -isysroot/Library/Developer/CommandLineTools/SDKs/MacOSX13.sdk -I/opt/local/Library/Frameworks/Python.framework/Versions/3.11/lib/python3.11/site-packages/pybind11/include -I/opt/local/Library/Frameworks/Python.framework/Versions/3.11/lib/python3.11/site-packages/pybind11/include -I/Users/leo/soft/valq/Yandex-Q/fortran_magic/cppimport -I/Users/leo/.cache/ipython/cppimport/9a9a5adc/d473927694e465ba7aae22d3d13ca156 -I/opt/local/Library/Frameworks/Python.framework/Versions/3.11/include/python3.11 -c /Users/leo/.cache/ipython/cppimport/9a9a5adc/d473927694e465ba7aae22d3d13ca156/.rendered.mymodule.cpp -o /var/folders/wy/z0gbkfgs7mv24ryqkdm90rm40009rh/T/tmp17d6jtwb/Users/leo/.cache/ipython/cppimport/9a9a5adc/d473927694e465ba7aae22d3d13ca156/.rendered.mymodule.o -DPyInit_mymodule=PyInit__d473927694e465ba7aae22d3d13ca156_mymodule -std=c++11 -fvisibility=hidden\n",
      "INFO:root:/usr/bin/clang++ -bundle -undefined dynamic_lookup -L/opt/local/lib -Wl,-headerpad_max_install_names -Wl,-syslibroot,/Library/Developer/CommandLineTools/SDKs/MacOSX13.sdk /var/folders/wy/z0gbkfgs7mv24ryqkdm90rm40009rh/T/tmp17d6jtwb/Users/leo/.cache/ipython/cppimport/9a9a5adc/d473927694e465ba7aae22d3d13ca156/.rendered.mymodule.o -o /var/folders/wy/z0gbkfgs7mv24ryqkdm90rm40009rh/T/tmp17d6jtwb/_d473927694e465ba7aae22d3d13ca156_mymodule.cpython-311-darwin.so\n",
      "INFO:root:copying /var/folders/wy/z0gbkfgs7mv24ryqkdm90rm40009rh/T/tmp17d6jtwb/_d473927694e465ba7aae22d3d13ca156_mymodule.cpython-311-darwin.so -> /Users/leo/.cache/ipython/cppimport/9a9a5adc/d473927694e465ba7aae22d3d13ca156\n",
      "INF:cppimport.magic:C/C++ objects: mymodule.add mymodule.Thing\n",
      "\u001b[92m exec(\u001b[0m assert 8 == mymodule.add(3, 5) \u001b[92m )\u001b[0m\n",
      "\u001b[92m exec(\u001b[0m mymodule.Thing().cheer() \u001b[92m )\u001b[0m\n",
      "WAHHOOOO\n",
      "\u001b[92m exec(\u001b[0m import sys\n",
      "\n",
      "(mymodule.__file__,\n",
      " [k for k in sys.modules if 'mymodule' in k],\n",
      " mymodule.__name__) \u001b[92m )\u001b[0m\n"
     ]
    }
   ],
   "source": [
    "import re\n",
    "import sys\n",
    "\n",
    "import cppimport\n",
    "\n",
    "force_assert_fail = -1 # 4\n",
    "for test_case in [(\"cppimport.settings['force_rebuild'] = False;\"\n",
    "                   \"get_ipython().run_line_magic('cppimport_config', '-v');\"\n",
    "                  ),\n",
    "                  (\"cppimport.settings['force_rebuild'] = True;\"\n",
    "                  ),\n",
    "                  #(\"get_ipython().run_line_magic('cppimport_config', '-vvv');\"\n",
    "                  #)\n",
    "                 ]:\n",
    "    print('\\033[95m exec( ',\n",
    "      test_case,\n",
    "      ' )\\033[0m', flush=True)\n",
    "    exec(test_case)\n",
    "    for i in range(first_replay_test, last_replay_test-1):\n",
    "        ii = In[i]\n",
    "        if force_assert_fail != 0:\n",
    "            force_assert_fail -= 1\n",
    "        elif 'assert' in ii:\n",
    "            ii = re.sub(r'(assert)\\s\\s*([0-9])', r'\\1 1\\2', ii)\n",
    "            ii = re.sub(r'(assert)\\s\\s*([^0-9])', r'\\1 \" \" + \\2', ii)\n",
    "        print('\\033[92m exec(\\033[0m',\n",
    "              ii.replace('\\\\n', '\\n').replace(\"\\\\'\", \"'\"),\n",
    "              '\\033[92m )\\033[0m', flush=True)\n",
    "        exec(ii)\n",
    "        sys.stdout.flush()\n",
    "        sys.stderr.flush()"
   ]
  },
  {
   "cell_type": "code",
   "execution_count": 25,
   "id": "d9c3ef2c-a6be-4412-944c-5425a85e3249",
   "metadata": {
    "tags": []
   },
   "outputs": [
    {
     "name": "stdout",
     "output_type": "stream",
     "text": [
      "Successful magic doc test, 2+2 = 4\n"
     ]
    }
   ],
   "source": [
    "print('Successful magic doc test, 2+2 =', 2+2)"
   ]
  }
 ],
 "metadata": {
  "kernelspec": {
   "display_name": "Python 3 (ipykernel)",
   "language": "python",
   "name": "python3"
  },
  "language_info": {
   "codemirror_mode": {
    "name": "ipython",
    "version": 3
   },
   "file_extension": ".py",
   "mimetype": "text/x-python",
   "name": "python",
   "nbconvert_exporter": "python",
   "pygments_lexer": "ipython3",
   "version": "3.11.4"
  },
  "toc-autonumbering": false,
  "toc-showmarkdowntxt": false,
  "toc-showtags": true
 },
 "nbformat": 4,
 "nbformat_minor": 5
}
