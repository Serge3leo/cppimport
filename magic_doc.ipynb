{
 "cells": [
  {
   "cell_type": "markdown",
   "id": "0683e93e",
   "metadata": {},
   "source": [
    "# CppImport magic's documentation\n",
    "`cppimport.magic` is an [IPython](http://ipython.org) extension that help to use C/C++ code in an interactive session.\n",
    "\n",
    "* Author `cppimport`:  T. Ben Thompson (t.ben.thompson@gmail.com)\n",
    "* `cppimport.magic`: Serguei E. Leontiev (leo@sai.msu.ru)\n",
    "* Homepage: https://github.com/tbenthompson/cppimport\n",
    "* SPDX-License-Identifier: MIT\n",
    "\n",
    "### TODO\n",
    "- Editorial edits are required. Sorry for my best Engish;\n",
    "- Now, don't have `boost`, `numpy`, `blas` and `lapack` for Python 3.12.0b4 (cells tagged as `xfail_python_3_12`)"
   ]
  },
  {
   "cell_type": "markdown",
   "id": "199ce498",
   "metadata": {
    "editable": true,
    "slideshow": {
     "slide_type": ""
    },
    "tags": []
   },
   "source": [
    "## Install or upgrade\n",
    "You can install or upgrade via `pip`:\n",
    "```\n",
    "        pip install -U cppimport\n",
    "```"
   ]
  },
  {
   "cell_type": "markdown",
   "id": "4664b1af-ba32-4c08-8deb-65782bbb8ed2",
   "metadata": {},
   "source": [
    "## Usage\n",
    "Then you are ready to load the magic:"
   ]
  },
  {
   "cell_type": "code",
   "execution_count": 1,
   "id": "c059b7ed-cdbe-4b5e-8f42-856646585bc6",
   "metadata": {
    "tags": []
   },
   "outputs": [
    {
     "data": {
      "application/javascript": [
       "\n",
       "        if(typeof IPython === 'undefined') {\n",
       "            console.log('cppimport/magic.py: TDOO: JupyterLab ' +\n",
       "                        'syntax highlight - unimplemented.');\n",
       "        } else {\n",
       "            IPython.CodeCell.options_default\n",
       "            .highlight_modes['magic_cpp'] = {'reg':[/^%%cppimport/]};\n",
       "        }\n",
       "        "
      ]
     },
     "metadata": {},
     "output_type": "display_data"
    }
   ],
   "source": [
    "%load_ext cppimport.magic"
   ]
  },
  {
   "cell_type": "markdown",
   "id": "6561c5fe-3ad2-4441-b460-186418407ba7",
   "metadata": {},
   "source": [
    "To load it each time IPython starts, list it in your configuration file:\n",
    "```\n",
    "    c.InteractiveShellApp.extensions = [\n",
    "        'cppimport.magic'\n",
    "    ]\n",
    "```"
   ]
  },
  {
   "cell_type": "code",
   "execution_count": 2,
   "id": "32251035-19cd-4a58-8ac2-962548c321f2",
   "metadata": {
    "tags": [
     "skip_python_le3_09"
    ]
   },
   "outputs": [
    {
     "name": "stdout",
     "output_type": "stream",
     "text": [
      "::\n",
      "\n",
      "  %cppimport [-v] [--help] cpp_module\n",
      "\n",
      "Build and import C/C++ module from ``%%ccpimport`` cell\n",
      "\n",
      "The content of the cell is written to a file in the\n",
      "directory ``$IPYTHONDIR/cppimport/<random>/<hash>/`` using\n",
      "a dirname with the hash of the code, flags and configuration\n",
      "data. This file is then compiled. The resulting module is\n",
      "imported.\n",
      "\n",
      "Usage\n",
      "=====\n",
      "Prepend ``%%cppimport`` to your C++/C code in a cell:\n",
      "\n",
      "%%cppimport module.cpp\n",
      "// put your code here.\n",
      "\n",
      "positional arguments:\n",
      "  cpp_module       Module C/C++ source file name.\n",
      "\n",
      "options:\n",
      "  -v, --verbosity  Increase output verbosity.\n",
      "  --help           Print docstring as output cell.\n",
      "\n"
     ]
    }
   ],
   "source": [
    "%%cppimport --help #\n",
    "#"
   ]
  },
  {
   "cell_type": "code",
   "execution_count": 3,
   "id": "2899879c-c739-43b7-b93a-27cfd1676b62",
   "metadata": {
    "tags": [
     "skip_python_le3_09"
    ]
   },
   "outputs": [
    {
     "name": "stdout",
     "output_type": "stream",
     "text": [
      "::\n",
      "\n",
      "  %cppimport_config [-v] [--clean-cache] [--defaults] [--help]\n",
      "\n",
      "options:\n",
      "  -v, --verbosity  Increase output verbosity.\n",
      "  --clean-cache    Clean ``cppimport.magic`` build cache.\n",
      "  --defaults       Delete custom configuration and back to default.\n",
      "  --help           Print docstring as output cell.\n",
      "\n"
     ]
    }
   ],
   "source": [
    "%cppimport_config --help"
   ]
  },
  {
   "cell_type": "markdown",
   "id": "831893ff-867d-47f5-bbc8-f5aca42d69c3",
   "metadata": {},
   "source": [
    "## Verbosity\n",
    "By default, magic returns output data only if errors or warnings occur during compilation. But you can increase the verbosity with the flag ``-v``:\n",
    "\n",
    "Flags    | Description\n",
    ":--------|:-----------\n",
    "None     | No outputs if successful\n",
    "``-v``   | List top level objects of imporing module\n",
    "``-vv``  | Setuptools verbose output\n",
    "``-vvv`` | Debug logging"
   ]
  },
  {
   "cell_type": "code",
   "execution_count": 4,
   "id": "3e32a5c5-41b1-447a-9136-3533c7239caf",
   "metadata": {
    "tags": []
   },
   "outputs": [
    {
     "name": "stdout",
     "output_type": "stream",
     "text": [
      "INF:cppimport.magic:New default arguments for %%cppimport: -v\n"
     ]
    }
   ],
   "source": [
    "%cppimport_config -v"
   ]
  },
  {
   "cell_type": "code",
   "execution_count": 5,
   "id": "4e00e631-6c69-4dd2-8c16-33f5fa29ee73",
   "metadata": {
    "tags": [
     "random"
    ]
   },
   "outputs": [
    {
     "name": "stdout",
     "output_type": "stream",
     "text": [
      "INF:cppimport.magic:Clean cache: /Users/leo/.cache/ipython/cppimport/aa1e4ca1\n"
     ]
    }
   ],
   "source": [
    "%cppimport_config --clean-cache\n",
    "first_replay_test = len(In)"
   ]
  },
  {
   "cell_type": "markdown",
   "id": "0d737f52-cbe2-47f4-a44a-f53769c09b25",
   "metadata": {},
   "source": [
    "## C/C++ code cell's\n",
    "You can use any interface libraries: [py11bind](https://pybind11.readthedocs.io), [Boost.Python](https://www.boost.org/doc/libs/release/libs/python/), native [Python/C API](https://docs.python.org/3/c-api/index.html) etc.\n",
    "\n",
    "Additional build flags configure by `cfg` dictionary in [Mako](https://www.makotemplates.org/) code blocks (`<%` and `%>`)."
   ]
  },
  {
   "cell_type": "markdown",
   "id": "7db59d49-a632-40ff-a383-170ffe984858",
   "metadata": {
    "tags": []
   },
   "source": [
    "### Use py11bind\n",
    "`setup_pybind11(cfg)` - short configuration definition for the comparatively popular C++11/Python interface.\n",
    "\n",
    "Also, classes defined by the cell (module) should be annotated as local (`py::module_local`). Classes without such an annotation will conflict with themselves when recompiled. See example [Use header files](#use_header_files) below."
   ]
  },
  {
   "cell_type": "code",
   "execution_count": 6,
   "id": "c44c9365-9f0d-4169-9b3b-330db1ef9243",
   "metadata": {
    "tags": []
   },
   "outputs": [
    {
     "name": "stdout",
     "output_type": "stream",
     "text": [
      "INF:cppimport.magic:C/C++ objects: somecode.square\n"
     ]
    }
   ],
   "source": [
    "%%cppimport somecode.cpp\n",
    "// Source:\n",
    "// https://github.com/tbenthompson/cppimport\n",
    "#include <pybind11/pybind11.h>\n",
    "\n",
    "namespace py = pybind11;\n",
    "\n",
    "int square(int x) {\n",
    "    return x * x;\n",
    "}\n",
    "\n",
    "PYBIND11_MODULE(somecode, m) {\n",
    "    m.def(\"square\", &square);\n",
    "}\n",
    "/*<%\n",
    "setup_pybind11(cfg)\n",
    "%>*/"
   ]
  },
  {
   "cell_type": "code",
   "execution_count": 7,
   "id": "3d13c1be-b5d5-45be-b357-82d173383d45",
   "metadata": {
    "tags": []
   },
   "outputs": [
    {
     "data": {
      "text/plain": [
       "144"
      ]
     },
     "execution_count": 7,
     "metadata": {},
     "output_type": "execute_result"
    }
   ],
   "source": [
    "somecode.square(12)"
   ]
  },
  {
   "cell_type": "code",
   "execution_count": 8,
   "id": "0ac4e29c-b59b-4550-ab3e-0daf9c6c72f1",
   "metadata": {
    "tags": []
   },
   "outputs": [],
   "source": [
    "assert 4 == somecode.square(2)"
   ]
  },
  {
   "cell_type": "markdown",
   "id": "a1e475d3-a96f-4109-8050-bca5d99e9984",
   "metadata": {},
   "source": [
    "#### C++14 py11bind example\n",
    "To use [py11bind](https://pybind11.readthedocs.io) with C++14/17/23/... code, you must explicitly set the appropriate compiler flag."
   ]
  },
  {
   "cell_type": "code",
   "execution_count": 9,
   "id": "89b89eca-2dba-49fa-9bc3-9a8725973e11",
   "metadata": {
    "tags": []
   },
   "outputs": [
    {
     "name": "stdout",
     "output_type": "stream",
     "text": [
      "INF:cppimport.magic:C/C++ objects: cpp14module.add\n"
     ]
    }
   ],
   "source": [
    "%%cppimport cpp14module.cpp\n",
    "// Source:\n",
    "// https://github.com/tbenthompson/cppimport/blob/main/tests/cpp14module.cpp\n",
    "#include <pybind11/pybind11.h>\n",
    "\n",
    "namespace py = pybind11;\n",
    "\n",
    "// Use auto instead of int to check C++14\n",
    "auto add(int i, int j) {\n",
    "    return i + j;\n",
    "}\n",
    "\n",
    "PYBIND11_MODULE(cpp14module, m) {\n",
    "    m.def(\"add\", &add);\n",
    "}\n",
    "/*<%\n",
    "setup_pybind11(cfg)\n",
    "cfg['compiler_args'] += ['-std=c++14']\n",
    "%>*/"
   ]
  },
  {
   "cell_type": "code",
   "execution_count": 10,
   "id": "ae9f80f4-9d84-418d-aeca-94fbb5b221ec",
   "metadata": {
    "tags": []
   },
   "outputs": [],
   "source": [
    "assert 18 == cpp14module.add(7, 11)"
   ]
  },
  {
   "cell_type": "markdown",
   "id": "2395b7f7-c6dc-4c1d-9905-26c0223250f0",
   "metadata": {},
   "source": [
    "### Use C/Python API"
   ]
  },
  {
   "cell_type": "code",
   "execution_count": 11,
   "id": "e5b63d6d-649c-405a-9dfd-2a49c94919e9",
   "metadata": {
    "tags": []
   },
   "outputs": [
    {
     "name": "stdout",
     "output_type": "stream",
     "text": [
      "INF:cppimport.magic:C/C++ objects: raw_extension.add\n"
     ]
    }
   ],
   "source": [
    "%%cppimport raw_extension.c\n",
    "// Source:\n",
    "// https://github.com/tbenthompson/cppimport/blob/main/tests/raw_extension.c\n",
    "#include <Python.h>\n",
    "\n",
    "#if PY_MAJOR_VERSION >= 3\n",
    "    #define MOD_INIT(name) PyMODINIT_FUNC PyInit_##name(void)\n",
    "    #define MOD_DEF(ob, name, doc, methods) \\\n",
    "        static struct PyModuleDef moduledef = { \\\n",
    "            PyModuleDef_HEAD_INIT, name, doc, -1, methods, }; \\\n",
    "        ob = PyModule_Create(&moduledef);\n",
    "    #define MOD_SUCCESS_VAL(val) val\n",
    "#else\n",
    "    #define MOD_INIT(name) PyMODINIT_FUNC init##name(void)\n",
    "    #define MOD_DEF(ob, name, doc, methods) \\\n",
    "        ob = Py_InitModule3(name, methods, doc);\n",
    "    #define MOD_SUCCESS_VAL(val)\n",
    "#endif\n",
    "\n",
    "static PyObject* add(PyObject* self, PyObject* args) {\n",
    "    int a, b;\n",
    "    //int class = 1;\n",
    "    if (!PyArg_ParseTuple(args, \"ii\", &a, &b)) {\n",
    "        return NULL;\n",
    "    }\n",
    "    return Py_BuildValue(\"i\", a + b);\n",
    "}\n",
    "\n",
    "static PyMethodDef methods[] = {\n",
    "    {\"add\", add, METH_VARARGS,\n",
    "     \"add(a: np.int32, b: np.int32) -> np.int32)\"},\n",
    "    {NULL}\n",
    "};\n",
    "\n",
    "MOD_INIT(raw_extension) {\n",
    "    PyObject* m;\n",
    "    MOD_DEF(m, \"raw_extension\", \"\", methods)\n",
    "    return MOD_SUCCESS_VAL(m);\n",
    "}"
   ]
  },
  {
   "cell_type": "code",
   "execution_count": 12,
   "id": "1cc96b8b-192c-494f-8988-610dd8eb2607",
   "metadata": {
    "tags": []
   },
   "outputs": [],
   "source": [
    "assert 7 == raw_extension.add(2, 5)"
   ]
  },
  {
   "cell_type": "markdown",
   "id": "9e0b9ca8-5fa4-400e-8a7a-78fb5239f3a0",
   "metadata": {
    "tags": []
   },
   "source": [
    "### Use Boost.Python\n",
    "To use [Boost.Python](https://www.boost.org/doc/libs/release/libs/python/), you must explicitly define libraries.\n"
   ]
  },
  {
   "cell_type": "code",
   "execution_count": 13,
   "id": "8822308d-1c85-4cd8-8fba-95cbc2951390",
   "metadata": {
    "tags": [
     "xfail_python_3_12"
    ]
   },
   "outputs": [
    {
     "name": "stdout",
     "output_type": "stream",
     "text": [
      "INF:cppimport.magic:C/C++ objects: operators.NumberLike\n"
     ]
    }
   ],
   "source": [
    "%%cppimport operators.cpp\n",
    "// Source:\n",
    "// https://github.com/TNG/boost-python-examples/blob/main/07-Operators/operators.cpp\n",
    "#include <sstream>\n",
    "#include <string>\n",
    "\n",
    "class NumberLike {\n",
    "public:\n",
    "    NumberLike(int n = 0) : mN(n) {}\n",
    "    NumberLike& operator+= (int i) {\n",
    "        mN += i;\n",
    "        return *this;\n",
    "    }\n",
    "    std::string str() const {\n",
    "        std::stringstream s;\n",
    "        s << mN;\n",
    "        return s.str();\n",
    "    }\n",
    "    std::string repr() const {\n",
    "        std::stringstream s;\n",
    "        s << \"NumberLike(\"<< mN << \")\";\n",
    "        return s.str();\n",
    "    }\n",
    "private:\n",
    "    int mN;\n",
    "};\n",
    "\n",
    "NumberLike operator+(NumberLike n, int i) {    n += i;\n",
    "    return n;\n",
    "};\n",
    "\n",
    "#include <boost/python.hpp>\n",
    "using namespace boost::python;\n",
    "\n",
    "BOOST_PYTHON_MODULE(operators) {\n",
    "    class_<NumberLike>(\"NumberLike\")\n",
    "        .def(init< optional<int> >())\n",
    "        .def(self + int())\n",
    "        .def(\"__str__\", &NumberLike::str)\n",
    "        .def(\"__repr__\", &NumberLike::repr)\n",
    "    ;\n",
    "}\n",
    "/*<%\n",
    "import os\n",
    "import sys\n",
    "_pfx = os.environ.get('CONDA_PREFIX', '/usr')\n",
    "\n",
    "cfg['compiler_args'] += ['-std=c++14']\n",
    "cfg['libraries'] += ['boost_python' +\n",
    "                     str(sys.version_info.major) + str(sys.version_info.minor)]\n",
    "cfg['include_dirs'] += [ os.path.join(_pfx, 'include') ]\n",
    "cfg['library_dirs'] += [ os.path.join(_pfx, 'lib') ]\n",
    "if sys.platform.startswith('darwin'):\n",
    "    cfg['extra_link_args'] += ['-rpath', os.path.join(_pfx, 'lib')]\n",
    "%>*/"
   ]
  },
  {
   "cell_type": "code",
   "execution_count": 14,
   "id": "d7710381-0a58-46ec-ae09-bc1d9823bd39",
   "metadata": {
    "tags": [
     "xfail_python_3_12"
    ]
   },
   "outputs": [
    {
     "name": "stdout",
     "output_type": "stream",
     "text": [
      "7 9 9 0 1 NumberLike(1)\n"
     ]
    }
   ],
   "source": [
    "n = operators.NumberLike(7)\n",
    "m = n + 2\n",
    "assert str(m) == \"9\"\n",
    "n0 = operators.NumberLike()\n",
    "m0 = n0 + 1\n",
    "assert repr(m0) == \"NumberLike(1)\"\n",
    "print(n, m, str(m), n0, m0, repr(m0))"
   ]
  },
  {
   "cell_type": "markdown",
   "id": "568cd95d-701f-4e41-8e8a-9e98d8c81393",
   "metadata": {},
   "source": [
    "## Use extra source\n",
    "Since the module is built in a temporary directory, references to additional source files must be absolute."
   ]
  },
  {
   "cell_type": "code",
   "execution_count": 15,
   "id": "259636e4-12fd-4f3a-84ef-34d81ff3e1bb",
   "metadata": {
    "tags": [
     "random"
    ]
   },
   "outputs": [
    {
     "name": "stdout",
     "output_type": "stream",
     "text": [
      "Overwriting .temp_test_extra_sources1.cpp\n"
     ]
    }
   ],
   "source": [
    "%%writefile .temp_test_extra_sources1.cpp\n",
    "// Source:\n",
    "// https://github.com/tbenthompson/cppimport/blob/main/tests/extra_sources1.cpp\n",
    "int square(int x) {\n",
    "    return x * x;\n",
    "}"
   ]
  },
  {
   "cell_type": "code",
   "execution_count": 16,
   "id": "9cb35b74-9ce4-4628-bfda-4fe4bbba8ea3",
   "metadata": {},
   "outputs": [
    {
     "name": "stdout",
     "output_type": "stream",
     "text": [
      "INF:cppimport.magic:C/C++ objects: extra_sources.square_sum\n"
     ]
    }
   ],
   "source": [
    "%%cppimport extra_sources.cpp\n",
    "// Source:\n",
    "// https://github.com/tbenthompson/cppimport/blob/main/tests/extra_sources.cpp\n",
    "#include <pybind11/pybind11.h>\n",
    "\n",
    "int square(int x);\n",
    "\n",
    "int square_sum(int x, int y) {\n",
    "    return square(x) + square(y);\n",
    "}\n",
    "\n",
    "PYBIND11_MODULE(extra_sources, m) {\n",
    "    m.def(\"square_sum\", &square_sum);\n",
    "}\n",
    "/*<%\n",
    "import os\n",
    "setup_pybind11(cfg)\n",
    "cfg['sources'] = [os.path.abspath('.temp_test_extra_sources1.cpp')]\n",
    "cfg['parallel'] = True\n",
    "%>*/"
   ]
  },
  {
   "cell_type": "code",
   "execution_count": 17,
   "id": "9cdf5abe-4a1a-48e3-b2ee-8e2e50cfa892",
   "metadata": {},
   "outputs": [],
   "source": [
    "assert 25 == extra_sources.square_sum(3, 4)"
   ]
  },
  {
   "cell_type": "markdown",
   "id": "24787738-d28b-4f1f-94fc-a29105eabb1e",
   "metadata": {},
   "source": [
    "<a id='use_header_files'></a>\n",
    "## Use header files\n",
    "\n",
    "Since the module is being built in a temporary directory, references to additional include directories, including current directory (`.`), must be absolute."
   ]
  },
  {
   "cell_type": "code",
   "execution_count": 18,
   "id": "0f67e096-ad20-43cc-ab36-648a829a18fc",
   "metadata": {
    "tags": [
     "random"
    ]
   },
   "outputs": [
    {
     "name": "stdout",
     "output_type": "stream",
     "text": [
      "Overwriting .temp_test_thing.h\n"
     ]
    }
   ],
   "source": [
    "%%writefile .temp_test_thing.h\n",
    "// Source:\n",
    "// https://github.com/tbenthompson/cppimport/blob/main/tests/test_cppimport.py\n",
    "#include <iostream>\n",
    "struct Thing {\n",
    "    void cheer() {\n",
    "        std::cout << \"WAHHOOOO\" << std::endl;\n",
    "    }\n",
    "};\n",
    "#define THING_DEFINED"
   ]
  },
  {
   "cell_type": "code",
   "execution_count": 19,
   "id": "bc1517bb-7ef3-47da-a67e-2e059948b0d1",
   "metadata": {
    "tags": [
     "random"
    ]
   },
   "outputs": [
    {
     "name": "stdout",
     "output_type": "stream",
     "text": [
      "Overwriting .temp_test_thing2.h\n"
     ]
    }
   ],
   "source": [
    "%%writefile .temp_test_thing2.h\n",
    "// This file is intentionally left empty."
   ]
  },
  {
   "cell_type": "code",
   "execution_count": 20,
   "id": "ad8571d3-ca54-48b0-826c-bdf151291658",
   "metadata": {},
   "outputs": [
    {
     "name": "stdout",
     "output_type": "stream",
     "text": [
      "INF:cppimport.magic:C/C++ objects: mymodule.add mymodule.Thing\n"
     ]
    }
   ],
   "source": [
    "%%cppimport mymodule.cpp\n",
    "// Source:\n",
    "// https://github.com/tbenthompson/cppimport/blob/main/tests/mymodule.cpp\n",
    "#include <pybind11/pybind11.h>\n",
    "#include \".temp_test_thing.h\"\n",
    "#include \".temp_test_thing2.h\"\n",
    "\n",
    "namespace py = pybind11;\n",
    "\n",
    "int add(int i, int j) {\n",
    "    return i + j;\n",
    "}\n",
    "\n",
    "PYBIND11_MODULE(mymodule, m) {\n",
    "    m.def(\"add\", &add);\n",
    "#ifdef THING_DEFINED\n",
    "    // #pragma message \"stuff\"\n",
    "    py::class_<Thing>(m, \"Thing\", py::module_local())\n",
    "        .def(py::init<>())\n",
    "        .def(\"cheer\", &Thing::cheer);\n",
    "#endif\n",
    "}\n",
    "/*<%\n",
    "import os\n",
    "setup_pybind11(cfg)\n",
    "cfg['include_dirs'] += [os.path.abspath('.')]\n",
    "cfg['dependencies'] += [os.path.abspath('.temp_test_thing.h')]\n",
    "%>*/"
   ]
  },
  {
   "cell_type": "code",
   "execution_count": 21,
   "id": "ea05dd59-b22a-4d7a-802d-4d6bf77d0407",
   "metadata": {},
   "outputs": [],
   "source": [
    "assert 8 == mymodule.add(3, 5)"
   ]
  },
  {
   "cell_type": "code",
   "execution_count": 22,
   "id": "9956534b-e79d-408a-bd44-df52d3f818b5",
   "metadata": {
    "tags": [
     "skip"
    ]
   },
   "outputs": [
    {
     "name": "stdout",
     "output_type": "stream",
     "text": [
      "WAHHOOOO\n"
     ]
    }
   ],
   "source": [
    "mymodule.Thing().cheer()  # pytest: skip: `std::cout<<...` don't captured"
   ]
  },
  {
   "cell_type": "markdown",
   "id": "d7ebd89b-0c90-4954-8634-17931b39470e",
   "metadata": {
    "tags": [
     "xfail_python_3_12"
    ]
   },
   "source": [
    "## Numpy, OpenMP, BLAS\n",
    "\n",
    "`macOS` `Xcode` `clang` don't have `OpenMP`, we need `clang`  in `PATH` form `MacPorts`, `Homebrew` or something else."
   ]
  },
  {
   "cell_type": "code",
   "execution_count": 23,
   "id": "a8a7d83d-3a6d-4151-9ce4-c5b815dc76ea",
   "metadata": {
    "tags": []
   },
   "outputs": [],
   "source": [
    "import os\n",
    "import re\n",
    "import sys\n",
    "\n",
    "if sys.platform.startswith(\"darwin\"):\n",
    "    for p in [\"/opt/local/bin\", \"/opt/homebrew/bin\", \"/usr/local/opt/llvm@15/bin\"]:\n",
    "        if not re.search(p + \".*:/usr/bin\", os.environ[\"PATH\"]):\n",
    "            os.environ[\"PATH\"] = p + \":\" + os.environ[\"PATH\"]"
   ]
  },
  {
   "cell_type": "code",
   "execution_count": 24,
   "id": "c39f8ff9-b54d-4584-81a5-b2cfbefb3acf",
   "metadata": {
    "tags": [
     "xfail_python_3_12",
     "xfail_python_3_07"
    ]
   },
   "outputs": [
    {
     "name": "stdout",
     "output_type": "stream",
     "text": [
      "INF:cppimport.magic:C/C++ objects: pnob.matmulNT pnob.omp_version\n"
     ]
    }
   ],
   "source": [
    "%%cppimport pnob.cpp\n",
    "#include <algorithm>\n",
    "#include <string>\n",
    "#include <unordered_map>\n",
    "\n",
    "#include <cblas.h>\n",
    "#include <omp.h>\n",
    "#include <pybind11/pybind11.h>\n",
    "#include <pybind11/numpy.h>\n",
    "\n",
    "namespace py = pybind11;\n",
    "\n",
    "template<class T>\n",
    "T dot(const T *pa, const T *pb, size_t n) {\n",
    "    T s = 0.;\n",
    "    while(n-- > 0) {\n",
    "        s += (*pa++)*(*pb++);\n",
    "    }\n",
    "    return s;\n",
    "}\n",
    "\n",
    "template<class T>\n",
    "void gemm(CBLAS_ORDER _order, CBLAS_TRANSPOSE _transa, CBLAS_TRANSPOSE _transb,\n",
    "          py::ssize_t m, py::ssize_t n, py::ssize_t k, \n",
    "          T _alpha, \n",
    "          const T *pa, py::ssize_t lda, const T *pb, py::ssize_t ldb, \n",
    "          T _beta, \n",
    "          T *pc, py::ssize_t ldc) {\n",
    "    if(_order != CblasRowMajor || \n",
    "       _transa != CblasNoTrans || _transb != CblasTrans ||\n",
    "       _alpha != 1. || _beta != 0.\n",
    "      ) {\n",
    "        throw py::value_error(std::string(__func__) + \n",
    "                              \": Bad unimplemented operands\");\n",
    "    }\n",
    "\n",
    "    const size_t L2cache = 256*1024;\n",
    "    const py::ssize_t grid_j = std::max((size_t)1, \n",
    "                                  L2cache/sizeof(T)/(3*k));\n",
    "    const py::ssize_t grid_i = std::max((size_t)1, \n",
    "                                  (L2cache/sizeof(T) - k*grid_j)/(2*k));\n",
    "\n",
    "    #pragma omp parallel for\n",
    "    for(py::ssize_t ig = 0; ig < m; ig += grid_i) {\n",
    "        for(py::ssize_t jg = 0; jg < n; jg += grid_j) {\n",
    "            if(PyErr_CheckSignals()) {\n",
    "                // Throw an exception in a parallel loop can cause a crash, \n",
    "                // so we break the loop\n",
    "                break; \n",
    "            }\n",
    "            for(py::ssize_t i = ig; i < std::min(ig + grid_i, m); i++) {\n",
    "                for(py::ssize_t j = jg; j < std::min(jg + grid_j, n); j++) {\n",
    "                    pc[i*ldc + j] = dot(pa + i*lda, pb + j*ldb, k);\n",
    "                }\n",
    "            }\n",
    "        }\n",
    "    }\n",
    "    if(PyErr_CheckSignals()) {\n",
    "        throw py::error_already_set();\n",
    "    }\n",
    "}\n",
    "\n",
    "template<> \n",
    "void gemm(CBLAS_ORDER order, CBLAS_TRANSPOSE transa, CBLAS_TRANSPOSE transb,\n",
    "          py::ssize_t m, py::ssize_t n, py::ssize_t k,\n",
    "          double alpha,\n",
    "          const double *pa, py::ssize_t lda, const double *pb, py::ssize_t ldb,\n",
    "          double beta,\n",
    "          double *pc, py::ssize_t ldc) {\n",
    "    cblas_dgemm(order, transa, transb,\n",
    "                m, n, k,\n",
    "                alpha, pa, lda, pb, ldb, beta,\n",
    "                pc, ldc);\n",
    "}\n",
    "\n",
    "template<class T>\n",
    "py::array_t<T> matmulNT(py::array_t<T, py::array::c_style> _a, \n",
    "                        py::array_t<T, py::array::c_style> _b) {\n",
    "    auto a = _a.template unchecked<2>();\n",
    "    auto b = _b.template unchecked<2>();\n",
    "\n",
    "    const auto m = a.shape(0);\n",
    "    const auto k = a.shape(1);\n",
    "    const auto n = b.shape(0);\n",
    "\n",
    "    if(k != b.shape(1)) {\n",
    "        throw std::invalid_argument(\n",
    "            std::string(__func__) + \n",
    "            \": Operands dimensions mismatch: a.shape(1) != b.shape(1)\"\n",
    "        );\n",
    "    }\n",
    "    \n",
    "    py::array_t<T> _r({m, n});\n",
    "    auto r = _r.template mutable_unchecked<2>();\n",
    "\n",
    "    gemm(CblasRowMajor, CblasNoTrans, CblasTrans,\n",
    "         m, n, k,\n",
    "         T(1.), &a(0, 0), k, &b(0, 0), k, T(0.),\n",
    "         &r(0,  0), n);\n",
    "    return _r;\n",
    "}\n",
    "\n",
    "std::string omp_version() {\n",
    "    std::unordered_map<unsigned,std::string> map { \n",
    "        { 199710, \"1.0 Fortran\" },\n",
    "        { 199810, \"1.0 C/C++\" },\n",
    "        { 199911, \"1.1 Fortran\" },\n",
    "        { 200011, \"2.0 Fortran\" },\n",
    "        { 200203, \"2.0 C/C++\" },\n",
    "        { 200505, \"2.5 C/C++/Fortran\" }, \n",
    "        { 200805, \"3.0 C/C++/Fortran\" },\n",
    "        { 201107, \"3.1 C/C++/Fortran\" },\n",
    "        { 201307, \"4.0 C/C++/Fortran\" },\n",
    "        { 201511, \"4.5 C/C++/Fortran\" },\n",
    "        { 201811, \"5.0 C/C++/Fortran\" },\n",
    "        { 202011, \"5.1 C/C++/Fortran\" },\n",
    "        { 202111, \"5.2 C/C++/Fortran\" }\n",
    "    };\n",
    "    auto pi = map.find(_OPENMP);\n",
    "    return (pi != map.end() \n",
    "            ? pi->second\n",
    "            : std::to_string(_OPENMP));\n",
    "}\n",
    "\n",
    "PYBIND11_MODULE(pnob, m) {\n",
    "    m.def(\"matmulNT\", &matmulNT<float>);\n",
    "    m.def(\"matmulNT\", &matmulNT<double>, py::prepend{});\n",
    "    m.def(\"matmulNT\", &matmulNT<long double>, py::prepend{});\n",
    "    m.def(\"omp_version\", omp_version);\n",
    "}\n",
    "/*<%\n",
    "setup_pybind11(cfg)\n",
    "cfg['compiler_args'] += ['-fopenmp', '-std=c++17', '-march=native', '-O3']\n",
    "cfg['libraries'] += ['omp', 'cblas']\n",
    "%>*/"
   ]
  },
  {
   "cell_type": "code",
   "execution_count": 25,
   "id": "832fed36-a110-4306-8cf8-1c8be55eaa5a",
   "metadata": {
    "tags": [
     "xfail_python_3_12",
     "random",
     "xfail_python_3_07"
    ]
   },
   "outputs": [
    {
     "name": "stdout",
     "output_type": "stream",
     "text": [
      "5.0 C/C++/Fortran\n"
     ]
    }
   ],
   "source": [
    "import numpy as np\n",
    "import threadpoolctl\n",
    "\n",
    "print(pnob.omp_version())"
   ]
  },
  {
   "cell_type": "code",
   "execution_count": 26,
   "id": "5470e665-6963-496b-9826-bddc8d503f74",
   "metadata": {
    "tags": [
     "xfail_python_3_12",
     "random",
     "xfail_python_3_07"
    ]
   },
   "outputs": [
    {
     "name": "stdout",
     "output_type": "stream",
     "text": [
      "<class 'numpy.float32'>\n",
      "seq: c = a @ b.T              : 0.00202156\n",
      "seq: c1 = pnob.matmulNT(a, b) : 0.0910553\n",
      ": c = a @ b.T              : 0.000632908\n",
      ": c1 = pnob.matmulNT(a, b) : 0.0129897\n",
      "<class 'numpy.float64'>\n",
      "seq: c = a @ b.T              : 0.00444282\n",
      "seq: c1 = pnob.matmulNT(a, b) : 0.00471878\n",
      ": c = a @ b.T              : 0.0020692\n",
      ": c1 = pnob.matmulNT(a, b) : 0.00213252\n",
      "<class 'numpy.longdouble'>\n",
      "seq: c = a @ b.T              : 0.361845\n",
      "seq: c1 = pnob.matmulNT(a, b) : 0.109525\n",
      ": c = a @ b.T              : 0.318189\n",
      ": c1 = pnob.matmulNT(a, b) : 0.0206091\n"
     ]
    }
   ],
   "source": [
    "import timeit\n",
    "\n",
    "\n",
    "def ptimeit(limit, stmt):\n",
    "    cnt, tcnt = timeit.Timer(stmt=stmt, globals=globals()).autorange()\n",
    "    print(\"%s: %-24s : %g\" % (limit, stmt, tcnt / cnt))\n",
    "\n",
    "\n",
    "m, n = 540, 360\n",
    "for t in [np.float32, np.float64, np.float128]:\n",
    "    a = t(np.random.uniform(size=(m, n)))\n",
    "    b = t(np.random.uniform(size=(m, n)))\n",
    "    print(t)\n",
    "    c = a @ b.T\n",
    "    c1 = pnob.matmulNT(a, b)\n",
    "    np.testing.assert_allclose(c1, c, rtol=2 * np.sqrt(n) * np.finfo(t).eps)\n",
    "    with threadpoolctl.threadpool_limits(limits=1):\n",
    "        ptimeit(\"seq\", \"c = a @ b.T\")\n",
    "        ptimeit(\"seq\", \"c1 = pnob.matmulNT(a, b)\")\n",
    "    ptimeit(\"\", \"c = a @ b.T\")\n",
    "    ptimeit(\"\", \"c1 = pnob.matmulNT(a, b)\")"
   ]
  },
  {
   "cell_type": "markdown",
   "id": "f73c0c89-1a6a-4008-816f-b11be341060b",
   "metadata": {},
   "source": [
    "## Save options\n",
    "Verbosity options of `%cppimport` overrides saved default verbosity options.\n",
    "\n",
    "We can see whatever the default config has:"
   ]
  },
  {
   "cell_type": "code",
   "execution_count": 27,
   "id": "3ccf047e-d7f8-4c13-859f-1795dced306c",
   "metadata": {},
   "outputs": [
    {
     "name": "stdout",
     "output_type": "stream",
     "text": [
      "INF:cppimport.magic:Current defaults arguments for %%cppimport: -v\n"
     ]
    }
   ],
   "source": [
    "%cppimport_config"
   ]
  },
  {
   "cell_type": "markdown",
   "id": "c6528b7d-eb79-44d5-af53-02538e18470d",
   "metadata": {},
   "source": [
    "To clear the custom defaults and back to the defaults (no arguments) use:"
   ]
  },
  {
   "cell_type": "code",
   "execution_count": 28,
   "id": "4872141d-7f16-435c-bf07-902373471dff",
   "metadata": {},
   "outputs": [
    {
     "name": "stdout",
     "output_type": "stream",
     "text": [
      "INF:cppimport.magic:Deleted custom config. Back to default arguments for %%cppimport\n"
     ]
    }
   ],
   "source": [
    "%cppimport_config --defaults"
   ]
  },
  {
   "cell_type": "markdown",
   "id": "445c3825-2c2e-405a-9482-1419f77275c2",
   "metadata": {},
   "source": [
    "## cppimport configuration\n",
    "### `cfg`\n",
    "Basically, selected subset of arguments of `class distutils.core.Extension`:\n",
    "\n",
    "Field                | Type | Description\n",
    ":--------------------|:-----|:-----------\n",
    "\"dependencies\"       | str  | Additional dependencies (e.g. header files!)\n",
    "\"extra_compile_args\" | str  | Any extra platform- and compiler-specific information to use when compiling the source files in ‘sources’\n",
    "\"extra_link_args\"    | str  | Any extra platform- and compiler-specific information to use when linking object files together to create the extension (or to create a new static Python interpreter)\n",
    "\"include_dirs\"       | str  | List of directories to search for C/C++ header files (in Unix form for portability)\n",
    "\"libraries\"          | str  | List of directories to search for C/C++ libraries at link time\n",
    "\"library_dirs\"       | str  | List of directories to search for C/C++ libraries at link time\n",
    "\"parallel\"           | bool | Enable parallel compilation\n",
    "\"sources\"            | str  | List of source filenames, relative to the distribution root (where the setup script lives), in Unix form (slash-separated) for portability. Source files may be C, C++, SWIG (.i), platform-specific resource files, or whatever else is recognized by the build_ext command as source for a Python extension.\n",
    "\n",
    "### `cppimport.settings`\n",
    "\n",
    "Field                      | Type      | Description\n",
    ":--------------------------|:----------|:-----------\n",
    "\"force_rebuild\"            | bool      | Build and load cell as if pseudorandom unique checksum (`cppimport`: Rebuild even when the checksum matches)\n",
    "\"file_exts\"                | list[str] | List recoginzed source file extensions\n",
    "\"lock_suffix\"              | str       | Suffix of lock file\n",
    "\"lock_timeout\"             | int       | Lock timeout [s]\n",
    "\"release_mode\"             | bool      | Skip the checksum and compiled binary existence checks during importing\n",
    "\"remove_strict_prototypes\" | bool      | Remove flag `-Wstrict-prototypes` from `distutils.sysconfig`\n",
    "\"rtld_flags\"               | int       | `sys.setdlopenflags()` flags, `cppimport` default `os.RTLD_LOCAL`\n"
   ]
  },
  {
   "cell_type": "markdown",
   "id": "78d98cbc-110e-41aa-a8c5-2b61c594c17d",
   "metadata": {},
   "source": [
    "## Internal `cppimport.magic`\n",
    "Build and reloading module of the modified cell occurs as follows:\n",
    "1. Calculating checksum;\n",
    "2. Checking already loaded module, if exist returning it (macOS/Linux/FreeBSD - ignoring dynamic symbol redefinition, Windows - simple locks loaded extension DLL, we can't overwrite it);\n",
    "3. Creating cache directory, writing cell, building and loading.\n"
   ]
  },
  {
   "cell_type": "code",
   "execution_count": 29,
   "id": "5a381b38-3b11-4304-ba7b-afbb46b64afe",
   "metadata": {
    "slideshow": {
     "slide_type": ""
    },
    "tags": [
     "random"
    ]
   },
   "outputs": [
    {
     "data": {
      "text/plain": [
       "('/Users/leo/.cache/ipython/cppimport/e291ddc0/116a5fed89d919a3192ba1938bf95415/_116a5fed89d919a3192ba1938bf95415_mymodule.cpython-311-darwin.so',\n",
       " ['_116a5fed89d919a3192ba1938bf95415_mymodule'],\n",
       " 'mymodule')"
      ]
     },
     "execution_count": 29,
     "metadata": {},
     "output_type": "execute_result"
    }
   ],
   "source": [
    "import sys\n",
    "\n",
    "(mymodule.__file__, [k for k in sys.modules if \"mymodule\" in k], mymodule.__name__)"
   ]
  },
  {
   "cell_type": "markdown",
   "id": "f544e3aa-9915-42a1-9fbc-8a86f72ed8fd",
   "metadata": {},
   "source": [
    "## Unimplemented\n",
    "\n",
    "Now unimplemented cell's C/C++ syntax highlighting for `Jupyter Lab` (now works only for `Jupyter Nootebook`)."
   ]
  },
  {
   "cell_type": "markdown",
   "id": "8ac2a57b-f007-4906-a99b-bd9c4d8d2186",
   "metadata": {},
   "source": [
    "## Cell tags\n",
    "This notebook use next tags:\n",
    "\n",
    "Tags          | Descriptions\n",
    ":-------------|:-------------\n",
    "`random`      | Tests don't check outpus tagged cells.\n",
    "`random_long` | `Clear Outputs` before commit.\n",
    "`skip`, `skip_darwin`, `skip_linux`, `skip_win32`, `skip_python_3_12`, ... `skip_python_le3_09`, ... | Skip cell (tests don't compute)\n",
    "`xfail`, `xfail_darwin`, `xfail_linux`, `xfail_win32`, `xfail_python_3_12`, ... `xfail_python_le3_09`, ... | Cell compute, expected fail."
   ]
  },
  {
   "cell_type": "markdown",
   "id": "ebe8c82d-59ee-468d-abce-fb6febed3bcd",
   "metadata": {},
   "source": [
    "## Additional test\n",
    "\n",
    "For test purpose we replay cells above with and without `cppimport.settings['force_rebuild'] = False`."
   ]
  },
  {
   "cell_type": "code",
   "execution_count": 30,
   "id": "75df486c-e1c5-4610-b8d0-b71c4b9da60d",
   "metadata": {},
   "outputs": [],
   "source": [
    "last_replay_test = len(In)"
   ]
  },
  {
   "cell_type": "code",
   "execution_count": null,
   "id": "5ee5b9ac-1514-430e-af8b-b5bab38e6539",
   "metadata": {
    "slideshow": {
     "slide_type": ""
    },
    "tags": [
     "random_long",
     "xfail_python_3_12",
     "xfail_python_3_07"
    ]
   },
   "outputs": [],
   "source": [
    "import re\n",
    "import sys\n",
    "\n",
    "import cppimport\n",
    "\n",
    "force_assert_fail = -1 # 4\n",
    "#\n",
    "# WARNING: `cppimport_config -v` for test `force_rebuild`\n",
    "#\n",
    "for test_case in [(\"cppimport.settings['force_rebuild'] = False; \"\n",
    "                   \"get_ipython().run_line_magic('cppimport_config', '-v'); \"\n",
    "                  ),\n",
    "                  (\"cppimport.settings['force_rebuild'] = True; \"\n",
    "                   \"get_ipython().run_line_magic('cppimport_config', '--defaults'); \"\n",
    "                  ),\n",
    "                  #(\"get_ipython().run_line_magic('cppimport_config', '-vvv');\"\n",
    "                  #)\n",
    "                 ]:\n",
    "    print('\\033[95m exec( ',\n",
    "      test_case,\n",
    "      ' )\\033[0m', flush=True)\n",
    "    exec(test_case)\n",
    "    for i in range(first_replay_test, last_replay_test-1):\n",
    "        ii = In[i]\n",
    "        if force_assert_fail != 0:\n",
    "            force_assert_fail -= 1\n",
    "        elif 'assert' in ii:\n",
    "            ii = re.sub(r'(assert)\\s\\s*([0-9])', r'\\1 1\\2', ii)\n",
    "            ii = re.sub(r'(assert)\\s\\s*([^0-9])', r'\\1 \" \" + \\2', ii)\n",
    "        print('\\033[92m exec(\\033[0m',\n",
    "              ii.replace('\\\\n', '\\n').replace(\"\\\\'\", \"'\"),\n",
    "              '\\033[92m )\\033[0m', flush=True)\n",
    "        exec(ii)\n",
    "        sys.stdout.flush()\n",
    "        sys.stderr.flush()"
   ]
  },
  {
   "cell_type": "code",
   "execution_count": 32,
   "id": "c09a4426-83d1-461c-b962-692cdfe4ef59",
   "metadata": {
    "tags": [
     "random"
    ]
   },
   "outputs": [],
   "source": [
    "# WARNING: Restore default configuration\n",
    "#\n",
    "%cppimport_config --defaults\n",
    "cppimport.settings[\"force_rebuild\"] = False"
   ]
  },
  {
   "cell_type": "code",
   "execution_count": 33,
   "id": "d9c3ef2c-a6be-4412-944c-5425a85e3249",
   "metadata": {
    "tags": []
   },
   "outputs": [
    {
     "name": "stdout",
     "output_type": "stream",
     "text": [
      "Successful magic doc test, 2+2 = 4\n"
     ]
    }
   ],
   "source": [
    "print(\"Successful magic doc test, 2+2 =\", 2 + 2)"
   ]
  }
 ],
 "metadata": {
  "kernelspec": {
   "display_name": "Python 3 (ipykernel)",
   "language": "python",
   "name": "python3"
  },
  "language_info": {
   "codemirror_mode": {
    "name": "ipython",
    "version": 3
   },
   "file_extension": ".py",
   "mimetype": "text/x-python",
   "name": "python",
   "nbconvert_exporter": "python",
   "pygments_lexer": "ipython3",
   "version": "3.11.4"
  },
  "toc-autonumbering": false,
  "toc-showcode": false,
  "toc-showmarkdowntxt": false,
  "toc-showtags": true
 },
 "nbformat": 4,
 "nbformat_minor": 5
}
